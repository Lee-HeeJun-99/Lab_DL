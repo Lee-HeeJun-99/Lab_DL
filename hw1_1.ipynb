{
  "cells": [
    {
      "cell_type": "markdown",
      "metadata": {
        "id": "view-in-github",
        "colab_type": "text"
      },
      "source": [
        "<a href=\"https://colab.research.google.com/github/Lee-HeeJun-99/Lab_DL/blob/main/hw1_1.ipynb\" target=\"_parent\"><img src=\"https://colab.research.google.com/assets/colab-badge.svg\" alt=\"Open In Colab\"/></a>"
      ]
    },
    {
      "cell_type": "code",
      "execution_count": null,
      "id": "040cf679",
      "metadata": {
        "id": "040cf679"
      },
      "outputs": [],
      "source": [
        "import torch\n",
        "import numpy as np"
      ]
    },
    {
      "cell_type": "markdown",
      "id": "1981f214",
      "metadata": {
        "id": "1981f214"
      },
      "source": [
        "# A"
      ]
    },
    {
      "cell_type": "code",
      "execution_count": null,
      "id": "25186662",
      "metadata": {
        "id": "25186662"
      },
      "outputs": [],
      "source": [
        "t1 = torch.Tensor([1, 2, 3], device='cpu')"
      ]
    },
    {
      "cell_type": "code",
      "execution_count": null,
      "id": "d2bf1f19",
      "metadata": {
        "id": "d2bf1f19",
        "outputId": "1adb908f-51d3-495e-eec7-a5a5e2c92e11"
      },
      "outputs": [
        {
          "name": "stdout",
          "output_type": "stream",
          "text": [
            "torch.float32\n",
            "cpu\n",
            "False\n",
            "torch.Size([3])\n",
            "torch.Size([3])\n"
          ]
        }
      ],
      "source": [
        "print(t1.dtype)\n",
        "print(t1.device)\n",
        "print(t1.requires_grad)\n",
        "print(t1.size())\n",
        "print(t1.shape)"
      ]
    },
    {
      "cell_type": "markdown",
      "id": "384a5ef9",
      "metadata": {
        "id": "384a5ef9"
      },
      "source": [
        "### torch.Tensor로 만들면 dtype = float32"
      ]
    },
    {
      "cell_type": "markdown",
      "id": "1386cd00",
      "metadata": {
        "id": "1386cd00"
      },
      "source": [
        "t1_cpu = t1.cpu()"
      ]
    },
    {
      "cell_type": "code",
      "execution_count": null,
      "id": "1b2438f6",
      "metadata": {
        "id": "1b2438f6"
      },
      "outputs": [],
      "source": [
        "t2 = torch.tensor([1, 2, 3], device='cpu')"
      ]
    },
    {
      "cell_type": "code",
      "execution_count": null,
      "id": "71401d94",
      "metadata": {
        "id": "71401d94",
        "outputId": "f6dfd216-10ce-4039-984a-027456d08f84"
      },
      "outputs": [
        {
          "name": "stdout",
          "output_type": "stream",
          "text": [
            "torch.int64\n",
            "cpu\n",
            "False\n",
            "torch.Size([3])\n",
            "torch.Size([3])\n"
          ]
        }
      ],
      "source": [
        "print(t2.dtype)\n",
        "print(t2.device)\n",
        "print(t2.requires_grad)\n",
        "print(t2.size())\n",
        "print(t2.shape)"
      ]
    },
    {
      "cell_type": "markdown",
      "id": "cee9cd3d",
      "metadata": {
        "id": "cee9cd3d"
      },
      "source": [
        "### torch.tensor로 만들면 dtype = int64"
      ]
    },
    {
      "cell_type": "code",
      "execution_count": null,
      "id": "a47932b4",
      "metadata": {
        "id": "a47932b4"
      },
      "outputs": [],
      "source": [
        "t2_cpu = t2.cpu()"
      ]
    },
    {
      "cell_type": "code",
      "execution_count": null,
      "id": "040e3afe",
      "metadata": {
        "id": "040e3afe",
        "outputId": "af9eda69-fda9-4dd3-8f86-d93f5770a4a7"
      },
      "outputs": [
        {
          "name": "stdout",
          "output_type": "stream",
          "text": [
            "torch.Size([]) 0\n",
            "torch.Size([1]) 1\n",
            "torch.Size([5]) 1\n",
            "torch.Size([5, 1]) 2\n",
            "torch.Size([3, 2]) 2\n",
            "torch.Size([3, 2, 1]) 3\n",
            "torch.Size([3, 1, 2, 1]) 4\n",
            "torch.Size([3, 1, 2, 3]) 4\n",
            "torch.Size([3, 1, 2, 3, 1]) 5\n",
            "torch.Size([4, 5]) 2\n",
            "torch.Size([4, 1, 5]) 3\n"
          ]
        },
        {
          "data": {
            "text/plain": [
              "'\\na11 = torch.tensor([\\n    [[[1, 2, 3], [4, 5]]],\\n    [[[1, 2, 3], [4, 5]]],\\n    [[[1, 2, 3], [4, 5]]],\\n    [[[1, 2, 3], [4, 5]]],\\n])\\nprint(a11.shape, a11.ndim)\\n'"
            ]
          },
          "execution_count": 59,
          "metadata": {},
          "output_type": "execute_result"
        }
      ],
      "source": [
        "a1 = torch.tensor(1)\n",
        "print(a1.shape, a1.ndim)\n",
        "\n",
        "a2 = torch.tensor([1])\n",
        "print(a2.shape, a2.ndim)\n",
        "\n",
        "a3 = torch.tensor([1, 2, 3, 4, 5])\n",
        "print(a3.shape, a3.ndim)\n",
        "\n",
        "a4 = torch.tensor([[1], [2], [3], [4], [5]])\n",
        "print(a4.shape, a4.ndim)\n",
        "\n",
        "a5 = torch.tensor([\n",
        "    [1, 2],\n",
        "    [3, 4],\n",
        "    [5, 6]\n",
        "])\n",
        "print(a5.shape, a5.ndim)\n",
        "\n",
        "a6 = torch.tensor([\n",
        "    [[1], [2]],\n",
        "    [[3], [4]],\n",
        "    [[5], [6]]\n",
        "])\n",
        "print(a6.shape, a6.ndim)\n",
        "\n",
        "a7 = torch.tensor([\n",
        "    [[[1], [2]]],\n",
        "    [[[3], [4]]],\n",
        "    [[[5], [6]]]\n",
        "])\n",
        "print(a7.shape, a7.ndim)\n",
        "\n",
        "a8 = torch.tensor([\n",
        "    [[[1, 2, 3], [2, 3, 4]]],\n",
        "    [[[3, 1, 1], [4, 4, 5]]],\n",
        "    [[[5, 6, 2], [6, 3, 1]]]\n",
        "])\n",
        "print(a8.shape, a8.ndim)\n",
        "\n",
        "\n",
        "a9 = torch.tensor([\n",
        "    [[[[1], [2], [3]], [[2], [3], [4]]]],\n",
        "    [[[[3], [1], [1]], [[4], [4], [5]]]],\n",
        "    [[[[5], [6], [2]], [[6], [3], [1]]]]\n",
        "])\n",
        "print(a9.shape, a9.ndim)\n",
        "\n",
        "a10 = torch.tensor([\n",
        "    [1, 2, 3, 4, 5],\n",
        "    [1, 2, 3, 4, 5],\n",
        "    [1, 2, 3, 4, 5],\n",
        "    [1, 2, 3, 4, 5],\n",
        "])\n",
        "print(a10.shape, a10.ndim)\n",
        "\n",
        "a10 = torch.tensor([\n",
        "    [[1, 2, 3, 4, 5]],\n",
        "    [[1, 2, 3, 4, 5]],\n",
        "    [[1, 2, 3, 4, 5]],\n",
        "    [[1, 2, 3, 4, 5]],\n",
        "])\n",
        "print(a10.shape, a10.ndim)\n",
        "\n",
        "'''\n",
        "a11 = torch.tensor([\n",
        "    [[[1, 2, 3], [4, 5]]],\n",
        "    [[[1, 2, 3], [4, 5]]],\n",
        "    [[[1, 2, 3], [4, 5]]],\n",
        "    [[[1, 2, 3], [4, 5]]],\n",
        "])\n",
        "print(a11.shape, a11.ndim)\n",
        "'''\n"
      ]
    },
    {
      "cell_type": "markdown",
      "id": "4cf6d251",
      "metadata": {
        "id": "4cf6d251"
      },
      "source": [
        "### 내부 리스트 길이가 맞지 않으면 shape 불일치 에러 발생"
      ]
    },
    {
      "cell_type": "markdown",
      "id": "f32ecd8c",
      "metadata": {
        "id": "f32ecd8c"
      },
      "source": [
        "# B"
      ]
    },
    {
      "cell_type": "code",
      "execution_count": null,
      "id": "420a81d7",
      "metadata": {
        "id": "420a81d7",
        "outputId": "4a2e16fc-ba8f-4a32-afd8-61d8051073c5"
      },
      "outputs": [
        {
          "name": "stdout",
          "output_type": "stream",
          "text": [
            "tensor([1., 2., 3.])\n",
            "tensor([1, 2, 3])\n",
            "tensor([1, 2, 3])\n"
          ]
        }
      ],
      "source": [
        "l1 = [1, 2, 3]\n",
        "t1 = torch.Tensor(l1)\n",
        "\n",
        "l2 = [1, 2, 3]\n",
        "t2 = torch.tensor(l2)\n",
        "\n",
        "l3 = [1, 2, 3]\n",
        "t3 = torch.as_tensor(l3)\n",
        "\n",
        "l1[0] = 100\n",
        "l2[0] = 100\n",
        "l3[0] = 100\n",
        "\n",
        "print(t1)\n",
        "print(t2)\n",
        "print(t3)"
      ]
    },
    {
      "cell_type": "markdown",
      "id": "afdcf0f7",
      "metadata": {
        "id": "afdcf0f7"
      },
      "source": [
        "### [ ] -> torch.Tensor 실수형으로 나옴\n",
        "### [ ] -> torch.tensor 정수형으로 나옴\n",
        "### [ ] -> torch.as_tensor 정수형으로 나옴"
      ]
    },
    {
      "cell_type": "code",
      "execution_count": null,
      "id": "c982c088",
      "metadata": {
        "id": "c982c088",
        "outputId": "e30ed98d-fcd9-4a33-8a68-102891fd5911"
      },
      "outputs": [
        {
          "name": "stdout",
          "output_type": "stream",
          "text": [
            "tensor([1., 2., 3.])\n",
            "tensor([1, 2, 3])\n",
            "tensor([100,   2,   3])\n"
          ]
        }
      ],
      "source": [
        "l4 = np.array([1, 2, 3])\n",
        "t4 = torch.Tensor(l4)\n",
        "\n",
        "l5 = np.array([1, 2, 3])\n",
        "t5 = torch.tensor(l5)\n",
        "\n",
        "l6 = np.array([1, 2, 3])\n",
        "t6 = torch.as_tensor(l6)\n",
        "\n",
        "l4[0] = 100\n",
        "l5[0] = 100\n",
        "l6[0] = 100\n",
        "\n",
        "print(t4)\n",
        "print(t5)\n",
        "print(t6)"
      ]
    },
    {
      "cell_type": "markdown",
      "id": "e41d37bc",
      "metadata": {
        "id": "e41d37bc"
      },
      "source": [
        "### 리스트 값을 바꾸면 np.array([ ]) -> torch.as_tensor 로 변환하면 값이 바뀜, 나머지는 안바뀜"
      ]
    },
    {
      "cell_type": "markdown",
      "id": "48f9def0",
      "metadata": {
        "id": "48f9def0"
      },
      "source": [
        "# C"
      ]
    },
    {
      "cell_type": "code",
      "execution_count": null,
      "id": "cc86444f",
      "metadata": {
        "id": "cc86444f",
        "outputId": "6aafdcc9-ad12-4cd4-dc47-6a66b9858ad8"
      },
      "outputs": [
        {
          "name": "stdout",
          "output_type": "stream",
          "text": [
            "tensor([1., 1., 1., 1., 1.])\n",
            "tensor([1., 1., 1., 1., 1.])\n"
          ]
        }
      ],
      "source": [
        "t1 = torch.ones(size=(5,))\n",
        "t1_like = torch.ones_like(input=t1)\n",
        "print(t1)\n",
        "print(t1_like)"
      ]
    },
    {
      "cell_type": "markdown",
      "id": "4434be55",
      "metadata": {
        "id": "4434be55"
      },
      "source": [
        "### torch.ones : 모든 원소가 1인 텐서 생성\n",
        "### size=(5,) : 길이가 5인 1차원 텐서 생성\n",
        "### torch.ones_like() : 주어진 텐서와 같은 크기, 같은 dtype, 같은 device를 가지는 텐서 생성, 값은 1"
      ]
    },
    {
      "cell_type": "code",
      "execution_count": null,
      "id": "167bbd8b",
      "metadata": {
        "id": "167bbd8b",
        "outputId": "c272f10e-8845-4269-ace8-b1e823a1657b"
      },
      "outputs": [
        {
          "name": "stdout",
          "output_type": "stream",
          "text": [
            "tensor([0., 0., 0., 0., 0., 0.])\n",
            "tensor([0., 0., 0., 0., 0., 0.])\n"
          ]
        }
      ],
      "source": [
        "t2 = torch.zeros(size=(6,))\n",
        "t2_like = torch.zeros_like(input=t2)\n",
        "print(t2)\n",
        "print(t2_like)"
      ]
    },
    {
      "cell_type": "markdown",
      "id": "0bb67569",
      "metadata": {
        "id": "0bb67569"
      },
      "source": [
        "### torch.zeros : 모든 원소가 0인 텐서 생성\n",
        "### torch.zeros_like() : 주어진 텐서와 같은 크기, 같은 dtype, 같은 device를 가지는 텐서 생성, 값은 0"
      ]
    },
    {
      "cell_type": "code",
      "execution_count": null,
      "id": "bebce4e6",
      "metadata": {
        "id": "bebce4e6",
        "outputId": "5c708f70-42f0-4acf-89f3-25ee9d91f7cb"
      },
      "outputs": [
        {
          "name": "stdout",
          "output_type": "stream",
          "text": [
            "tensor([ 0.0000, 18.9802,  3.0000,  4.0000])\n",
            "tensor([1., 2., 3., 0.])\n"
          ]
        }
      ],
      "source": [
        "t3 = torch.empty(size=(4,))\n",
        "t3_like = torch.empty_like(input=t3)\n",
        "print(t3)\n",
        "print(t3_like)"
      ]
    },
    {
      "cell_type": "markdown",
      "id": "b6a3a43f",
      "metadata": {
        "id": "b6a3a43f"
      },
      "source": [
        "### torch.empty : 메모리만 할당, 값 초기화 X\n",
        "### torch.empty_like() : 주어진 텐서와 같은 크기, dtype, device를 가지는 텐서 생성, 값 초기화 X"
      ]
    },
    {
      "cell_type": "code",
      "execution_count": null,
      "id": "75b1e872",
      "metadata": {
        "id": "75b1e872",
        "outputId": "26d515aa-c8d7-431b-b949-64ec6bddd811"
      },
      "outputs": [
        {
          "name": "stdout",
          "output_type": "stream",
          "text": [
            "tensor([[1., 0., 0.],\n",
            "        [0., 1., 0.],\n",
            "        [0., 0., 1.]])\n"
          ]
        }
      ],
      "source": [
        "t4 = torch.eye(n=3)\n",
        "print(t4)"
      ]
    },
    {
      "cell_type": "markdown",
      "id": "e357fec4",
      "metadata": {
        "id": "e357fec4"
      },
      "source": [
        "### torch.eye(n) : 크기가 (n, n) 인 단위 행렬 생성"
      ]
    },
    {
      "cell_type": "markdown",
      "id": "3f77a42b",
      "metadata": {
        "id": "3f77a42b"
      },
      "source": [
        "# D"
      ]
    },
    {
      "cell_type": "code",
      "execution_count": null,
      "id": "921ac295",
      "metadata": {
        "id": "921ac295",
        "outputId": "e908ae44-ffdb-47e5-da7e-e5ed5572b30a"
      },
      "outputs": [
        {
          "name": "stdout",
          "output_type": "stream",
          "text": [
            "tensor([[12, 13]])\n",
            "tensor([[0.6879, 0.7934, 0.8877]])\n",
            "tensor([[-0.3016, -0.3851,  0.3037]])\n",
            "tensor([[ 9.8675, 10.1110],\n",
            "        [10.3173,  9.3774],\n",
            "        [ 8.4790, 11.2901]])\n",
            "tensor([0.0000, 2.5000, 5.0000])\n",
            "tensor([0, 1, 2, 3, 4])\n"
          ]
        }
      ],
      "source": [
        "t1 = torch.randint(low=10, high=20, size=(1, 2))\n",
        "print(t1)\n",
        "\n",
        "t2 = torch.rand(size=(1, 3))\n",
        "print(t2)\n",
        "\n",
        "t3 = torch.randn(size=(1, 3))\n",
        "print(t3)\n",
        "\n",
        "t4 = torch.normal(mean=10.0, std=1.0, size=(3, 2))\n",
        "print(t4)\n",
        "\n",
        "t5 = torch.linspace(start=0.0, end=5.0, steps=3)\n",
        "print(t5)\n",
        "\n",
        "t6 = torch.arange(5)\n",
        "print(t6)"
      ]
    },
    {
      "cell_type": "markdown",
      "id": "c89138ac",
      "metadata": {
        "id": "c89138ac"
      },
      "source": [
        "### torch.randint(low, high) : low 이상 high 미만 정수 난수 생성\n",
        "### torch.rand() : [0, 1) 구간의 균일분포 난수 생성\n",
        "### torch.randn() : 정규분포(평균 0, 표준편차 1) 난수 생성\n",
        "### torch.normal(mean, std) : 평균과 표준편차를 직접 지정하는 정규분포 난수\n",
        "### torch.linspace(start, end, steps) : 시작과 끝 포함, 등간격으로 나누어진 값 생성\n",
        "### torch.arange() : 연속된 정수 시퀀스 생성"
      ]
    },
    {
      "cell_type": "code",
      "execution_count": null,
      "id": "f070c9ea",
      "metadata": {
        "id": "f070c9ea",
        "outputId": "bfba131e-1212-4f8d-efbf-664b810278aa"
      },
      "outputs": [
        {
          "name": "stdout",
          "output_type": "stream",
          "text": [
            "tensor([[0.3126, 0.3791, 0.3087],\n",
            "        [0.0736, 0.4216, 0.0691]])\n",
            "tensor([[0.2332, 0.4047, 0.2162],\n",
            "        [0.9927, 0.4128, 0.5938]])\n",
            "\n",
            "tensor([[0.3126, 0.3791, 0.3087],\n",
            "        [0.0736, 0.4216, 0.0691]])\n",
            "tensor([[0.2332, 0.4047, 0.2162],\n",
            "        [0.9927, 0.4128, 0.5938]])\n"
          ]
        }
      ],
      "source": [
        "torch.manual_seed(1729)\n",
        "random1 = torch.rand(2, 3)\n",
        "print(random1)\n",
        "\n",
        "random2 = torch.rand(2, 3)\n",
        "print(random2)\n",
        "\n",
        "print()\n",
        "\n",
        "torch.manual_seed(1729)\n",
        "random3 = torch.rand(2, 3)\n",
        "print(random3)\n",
        "\n",
        "random4 = torch.rand(2, 3)\n",
        "print(random4)"
      ]
    },
    {
      "cell_type": "markdown",
      "id": "45426e2e",
      "metadata": {
        "id": "45426e2e"
      },
      "source": [
        "### torch.manual_seed() : 난수 생겅기 시드 고정"
      ]
    },
    {
      "cell_type": "markdown",
      "id": "9281682f",
      "metadata": {
        "id": "9281682f"
      },
      "source": [
        "# E"
      ]
    },
    {
      "cell_type": "code",
      "execution_count": null,
      "id": "b6518785",
      "metadata": {
        "id": "b6518785",
        "outputId": "7bce337b-8336-4968-a3be-f0e99f380bb0"
      },
      "outputs": [
        {
          "name": "stdout",
          "output_type": "stream",
          "text": [
            "torch.float32\n",
            "tensor([[1, 1, 1],\n",
            "        [1, 1, 1]], dtype=torch.int16)\n",
            "tensor([[18.0429,  7.2532, 19.6519],\n",
            "        [10.8626,  2.1505, 19.6913]], dtype=torch.float64)\n",
            "tensor([[1, 1, 1],\n",
            "        [1, 1, 1]], dtype=torch.int32)\n"
          ]
        }
      ],
      "source": [
        "a = torch.ones((2, 3))\n",
        "print(a.dtype)\n",
        "\n",
        "b = torch.ones((2, 3), dtype=torch.int16)\n",
        "print(b)\n",
        "\n",
        "c = torch.rand((2, 3), dtype=torch.float64) * 20.\n",
        "print(c)\n",
        "\n",
        "d = b.to(torch.int32)\n",
        "print(d)"
      ]
    },
    {
      "cell_type": "markdown",
      "id": "2719cd12",
      "metadata": {
        "id": "2719cd12"
      },
      "source": [
        "### torch.ones() : 모양 맞는 텐서 생성, 값은 1, 기본 dtype은 torch.float32\n",
        "### dtype 지정 가능\n",
        "### * 20. : 0 ~ 20 범위의 실수 난수"
      ]
    },
    {
      "cell_type": "code",
      "execution_count": null,
      "id": "291ff2ed",
      "metadata": {
        "id": "291ff2ed",
        "outputId": "e3fa4b01-8054-4d7e-d159-c495cd2bdf62"
      },
      "outputs": [
        {
          "name": "stdout",
          "output_type": "stream",
          "text": [
            "torch.float64\n",
            "torch.int16\n",
            "torch.float64\n"
          ]
        }
      ],
      "source": [
        "double_d = torch.ones(10, 2, dtype=torch.double)\n",
        "short_e = torch.tensor([[1, 2]], dtype=torch.short)\n",
        "\n",
        "double_d = torch.zeros(10, 2).double()\n",
        "short_e = torch.ones(10, 2).short()\n",
        "\n",
        "double_d = torch.zeros(10, 2).to(torch.double)\n",
        "short_e = torch.ones(10, 2).to(dtype=torch.short)\n",
        "\n",
        "double_d = torch.zeros(10, 2).type(torch.double)\n",
        "short_e = torch.ones(10, 2). type(dtype=torch.short)\n",
        "\n",
        "print(double_d.dtype)\n",
        "print(short_e.dtype)\n",
        "\n",
        "double_f = torch.rand(5, dtype=torch.double)\n",
        "short_g = double_f.to(torch.short)\n",
        "print((double_f * short_g).dtype)"
      ]
    },
    {
      "cell_type": "markdown",
      "id": "8239c88c",
      "metadata": {
        "id": "8239c88c"
      },
      "source": [
        "### .to(torch.double) : dtype을 float64 변환\n",
        "### .to(dtype=torch.short) : dtype을 int16으로 변환\n",
        "### .type() : dtype 변환, .to()를 더 일반적으로 사용"
      ]
    },
    {
      "cell_type": "markdown",
      "id": "1883ea82",
      "metadata": {
        "id": "1883ea82"
      },
      "source": [
        "# F"
      ]
    },
    {
      "cell_type": "code",
      "execution_count": null,
      "id": "765435fa",
      "metadata": {
        "id": "765435fa",
        "outputId": "95c2beee-201f-4dde-8e3b-a60b7f2932e2"
      },
      "outputs": [
        {
          "name": "stdout",
          "output_type": "stream",
          "text": [
            "tensor([[2., 2., 2.],\n",
            "        [2., 2., 2.]])\n",
            "tensor([[2., 2., 2.],\n",
            "        [2., 2., 2.]])\n"
          ]
        }
      ],
      "source": [
        "t1 = torch.ones(size=(2, 3))\n",
        "t2 = torch.ones(size=(2, 3))\n",
        "t3 = torch.add(t1, t2)\n",
        "t4 = t1 + t2\n",
        "print(t3)\n",
        "print(t4)"
      ]
    },
    {
      "cell_type": "markdown",
      "id": "e1b5fef4",
      "metadata": {
        "id": "e1b5fef4"
      },
      "source": [
        "### torch.add() : 덧셈 함수, 각 텐서를 원소별로 더함"
      ]
    },
    {
      "cell_type": "code",
      "execution_count": null,
      "id": "9d9fe77b",
      "metadata": {
        "id": "9d9fe77b",
        "outputId": "f58e716d-60f9-4720-bbbf-48f9595c99f3"
      },
      "outputs": [
        {
          "name": "stdout",
          "output_type": "stream",
          "text": [
            "tensor([[0., 0., 0.],\n",
            "        [0., 0., 0.]])\n",
            "tensor([[0., 0., 0.],\n",
            "        [0., 0., 0.]])\n"
          ]
        }
      ],
      "source": [
        "t5 = torch.sub(t1, t2)\n",
        "t6 = t1 - t2\n",
        "print(t5)\n",
        "print(t6)"
      ]
    },
    {
      "cell_type": "markdown",
      "id": "50cdf265",
      "metadata": {
        "id": "50cdf265"
      },
      "source": [
        "### torch.sub() : 빼기 함수, 각 텐서를 원소별로 뺌"
      ]
    },
    {
      "cell_type": "code",
      "execution_count": null,
      "id": "5acb7b0b",
      "metadata": {
        "id": "5acb7b0b",
        "outputId": "641b0c16-012c-4082-d249-4e010e063eed"
      },
      "outputs": [
        {
          "name": "stdout",
          "output_type": "stream",
          "text": [
            "tensor([[1., 1., 1.],\n",
            "        [1., 1., 1.]])\n",
            "tensor([[1., 1., 1.],\n",
            "        [1., 1., 1.]])\n"
          ]
        }
      ],
      "source": [
        "t7 = torch.mul(t1, t2)\n",
        "t8 = t1 * t2\n",
        "print(t7)\n",
        "print(t8)"
      ]
    },
    {
      "cell_type": "markdown",
      "id": "aa931740",
      "metadata": {
        "id": "aa931740"
      },
      "source": [
        "### torch.mul() : 곱셈 함수, 각 텐서를 원소별로 곱함"
      ]
    },
    {
      "cell_type": "code",
      "execution_count": null,
      "id": "c24ce8ae",
      "metadata": {
        "id": "c24ce8ae",
        "outputId": "c1d1d899-573b-44ee-b321-4658b978f6b9"
      },
      "outputs": [
        {
          "name": "stdout",
          "output_type": "stream",
          "text": [
            "tensor([[1., 1., 1.],\n",
            "        [1., 1., 1.]])\n",
            "tensor([[1., 1., 1.],\n",
            "        [1., 1., 1.]])\n"
          ]
        }
      ],
      "source": [
        "t9 = torch.div(t1, t2)\n",
        "t10 = t1 / t2\n",
        "print(t9)\n",
        "print(t10)"
      ]
    },
    {
      "cell_type": "markdown",
      "id": "4954bf22",
      "metadata": {
        "id": "4954bf22"
      },
      "source": [
        "### torch.div() : 나누기 함수, 각 텐서를 원소별로 나눔"
      ]
    },
    {
      "cell_type": "markdown",
      "id": "6b9b0c96",
      "metadata": {
        "id": "6b9b0c96"
      },
      "source": [
        "# G"
      ]
    },
    {
      "cell_type": "code",
      "execution_count": null,
      "id": "e92f1bb0",
      "metadata": {
        "id": "e92f1bb0",
        "outputId": "239fa543-05ea-4289-fa19-3b50d83f6fc0"
      },
      "outputs": [
        {
          "name": "stdout",
          "output_type": "stream",
          "text": [
            "tensor(7) torch.Size([])\n",
            "tensor([[1.6750, 2.2840],\n",
            "        [0.0956, 1.0294]]) torch.Size([2, 2])\n",
            "torch.Size([10, 3, 5])\n"
          ]
        }
      ],
      "source": [
        "t1 = torch.dot(\n",
        "  torch.tensor([2, 3]), torch.tensor([2, 1])\n",
        ")\n",
        "print(t1, t1.size())\n",
        "\n",
        "t2 = torch.randn(2, 3)\n",
        "t3 = torch.randn(3, 2)\n",
        "t4 = torch.mm(t2, t3)\n",
        "print(t4, t4.size())\n",
        "\n",
        "t5 = torch.randn(10, 3, 4)\n",
        "t6 = torch.randn(10, 4, 5)\n",
        "t7 = torch.bmm(t5, t6)\n",
        "print(t7.size())"
      ]
    },
    {
      "cell_type": "markdown",
      "id": "30c75a24",
      "metadata": {
        "id": "30c75a24"
      },
      "source": [
        "### torch.dot() : 벡터 내적, 결과는 스칼라\n",
        "### torch.mm() : 행렬 곱\n",
        "### torch.bmm() : 각 배치마다 행렬 곱"
      ]
    },
    {
      "cell_type": "markdown",
      "id": "5718198c",
      "metadata": {
        "id": "5718198c"
      },
      "source": [
        "# H"
      ]
    },
    {
      "cell_type": "code",
      "execution_count": null,
      "id": "fa2165ea",
      "metadata": {
        "id": "fa2165ea",
        "outputId": "6eb85350-bc8d-4b01-deed-cb560505eeec"
      },
      "outputs": [
        {
          "name": "stdout",
          "output_type": "stream",
          "text": [
            "torch.Size([])\n",
            "torch.Size([3])\n",
            "torch.Size([10, 3])\n",
            "torch.Size([10, 3, 5])\n",
            "torch.Size([10, 3, 5])\n"
          ]
        }
      ],
      "source": [
        "t1 = torch.randn(3)\n",
        "t2 = torch.randn(3)\n",
        "print(torch.matmul(t1, t2).size())\n",
        "\n",
        "t3 = torch.randn(3, 4)\n",
        "t4 = torch.randn(4)\n",
        "print(torch.matmul(t3, t4).size())\n",
        "\n",
        "t5 = torch.randn(10, 3, 4)\n",
        "t6 = torch.randn(4)\n",
        "print(torch.matmul(t5, t6).size())\n",
        "\n",
        "t7 = torch.randn(10, 3, 4)\n",
        "t8 = torch.randn(10, 4, 5)\n",
        "print(torch.matmul(t7, t8).size())\n",
        "\n",
        "t9 = torch.randn(10, 3, 4)\n",
        "t10 = torch.randn(4, 5)\n",
        "print(torch.matmul(t9, t10).size())"
      ]
    },
    {
      "cell_type": "markdown",
      "id": "93dc3011",
      "metadata": {
        "id": "93dc3011"
      },
      "source": [
        "### 내적, 행렬-벡터 곱, 각 배치별 행렬-벡터 곱, 배치별 행렬 곱, 브로드캐스팅 후 배치 행렬 곱"
      ]
    },
    {
      "cell_type": "markdown",
      "id": "980ff90a",
      "metadata": {
        "id": "980ff90a"
      },
      "source": [
        "# I"
      ]
    },
    {
      "cell_type": "code",
      "execution_count": null,
      "id": "696056d9",
      "metadata": {
        "id": "696056d9",
        "outputId": "8da798a8-707c-4985-a09d-5d0dc81c8ad2"
      },
      "outputs": [
        {
          "name": "stdout",
          "output_type": "stream",
          "text": [
            "tensor([2., 4., 6.])\n"
          ]
        }
      ],
      "source": [
        "t1 = torch.tensor([1.0, 2.0, 3.0])\n",
        "t2 = 2.0\n",
        "print(t1 * t2)"
      ]
    },
    {
      "cell_type": "code",
      "execution_count": null,
      "id": "5cc34de1",
      "metadata": {
        "id": "5cc34de1",
        "outputId": "fb82c311-bb93-414c-a5d7-11f2bd08bb0d"
      },
      "outputs": [
        {
          "name": "stdout",
          "output_type": "stream",
          "text": [
            "tensor([[-4, -4],\n",
            "        [-2, -1],\n",
            "        [ 6,  5]])\n"
          ]
        }
      ],
      "source": [
        "t3 = torch.tensor([[0, 1], [2, 4], [10, 10]])\n",
        "t4 = torch.tensor([4, 5])\n",
        "print(t3 - t4)"
      ]
    },
    {
      "cell_type": "code",
      "execution_count": null,
      "id": "c2e018a7",
      "metadata": {
        "id": "c2e018a7",
        "outputId": "ae4594c4-3653-46a2-946a-ab410e877855"
      },
      "outputs": [
        {
          "name": "stdout",
          "output_type": "stream",
          "text": [
            "tensor([[3., 4.],\n",
            "        [5., 6.]])\n",
            "tensor([[-1.,  0.],\n",
            "        [ 1.,  2.]])\n",
            "tensor([[2., 4.],\n",
            "        [6., 8.]])\n",
            "tensor([[0.5000, 1.0000],\n",
            "        [1.5000, 2.0000]])\n"
          ]
        }
      ],
      "source": [
        "t5 = torch.tensor([[1., 2.], [3., 4.]])\n",
        "print(t5 + 2.0)\n",
        "print(t5 - 2.0)\n",
        "print(t5 * 2.0)\n",
        "print(t5 / 2.0)"
      ]
    },
    {
      "cell_type": "markdown",
      "id": "cc718e1f",
      "metadata": {
        "id": "cc718e1f"
      },
      "source": [
        "### 브로드캐스팅 규칙 : +, -, *, /, ** 등 기본 연산 모두 동일하게 동작"
      ]
    },
    {
      "cell_type": "code",
      "execution_count": null,
      "id": "15f05906",
      "metadata": {
        "id": "15f05906",
        "outputId": "ecd6c7ba-5a3a-47d9-b42b-83aeb8e0982f"
      },
      "outputs": [
        {
          "name": "stdout",
          "output_type": "stream",
          "text": [
            "torch.Size([3, 28, 28])\n"
          ]
        }
      ],
      "source": [
        "def normalize(x):\n",
        "  return x / 255\n",
        "\n",
        "\n",
        "t6 = torch.randn(3, 28, 28)\n",
        "print(normalize(t6).size())"
      ]
    },
    {
      "cell_type": "markdown",
      "id": "e772f8c4",
      "metadata": {
        "id": "e772f8c4"
      },
      "source": [
        "### 입력 텐서를 255로 나누어 스케일링, 0~1 정규화, shape 변화 X"
      ]
    },
    {
      "cell_type": "code",
      "execution_count": null,
      "id": "e4770009",
      "metadata": {
        "id": "e4770009",
        "outputId": "307afa16-487a-4110-b7cd-b7af8e7a1b7a"
      },
      "outputs": [
        {
          "name": "stdout",
          "output_type": "stream",
          "text": [
            "tensor([[4, 3],\n",
            "        [3, 4]])\n",
            "tensor([[6, 7],\n",
            "        [2, 5]])\n",
            "tensor([[8, 6],\n",
            "        [5, 3]])\n",
            "tensor([[ 8,  9],\n",
            "        [ 7, 10]])\n"
          ]
        }
      ],
      "source": [
        "t7 = torch.tensor([[1, 2], [0, 3]])\n",
        "t8 = torch.tensor([[3, 1]])\n",
        "t9 = torch.tensor([[5], [2]])\n",
        "t10 = torch.tensor([7])\n",
        "print(t7 + t8)\n",
        "print(t7 + t9)\n",
        "print(t8 + t9)\n",
        "print(t7 + t10)"
      ]
    },
    {
      "cell_type": "markdown",
      "id": "63d6c2ed",
      "metadata": {
        "id": "63d6c2ed"
      },
      "source": [
        "### 차원이 확장됨"
      ]
    },
    {
      "cell_type": "code",
      "execution_count": null,
      "id": "9a1b3969",
      "metadata": {
        "id": "9a1b3969",
        "outputId": "822a6354-174e-4c46-cb13-e0a163be8109"
      },
      "outputs": [
        {
          "name": "stdout",
          "output_type": "stream",
          "text": [
            "torch.Size([4, 3, 2])\n",
            "torch.Size([4, 3, 2])\n",
            "torch.Size([4, 3, 2])\n",
            "torch.Size([5, 3, 4, 1])\n"
          ]
        }
      ],
      "source": [
        "t11 = torch.ones(4, 3, 2)\n",
        "t12 = t11 * torch.rand(3, 2)\n",
        "print(t12.shape)\n",
        "\n",
        "t13 = torch.ones(4, 3, 2)\n",
        "t14 = t13 * torch.rand(3, 1)\n",
        "print(t14.shape)\n",
        "\n",
        "t15 = torch.ones(4, 3, 2)\n",
        "t16 = t15 * torch.rand(1, 2)\n",
        "print(t16.shape)\n",
        "\n",
        "t17 = torch.ones(5, 3, 4, 1)\n",
        "t18 = torch.rand(3, 1, 1)\n",
        "print((t17 + t18).size())"
      ]
    },
    {
      "cell_type": "markdown",
      "id": "27397a1e",
      "metadata": {
        "id": "27397a1e"
      },
      "source": [
        "### 두 차원이 같으면 계산, 둘 중 하나가 1이면 확장"
      ]
    },
    {
      "cell_type": "code",
      "execution_count": null,
      "id": "8191fc14",
      "metadata": {
        "id": "8191fc14",
        "outputId": "c64cc517-6219-44b5-802c-503c4d40be91"
      },
      "outputs": [
        {
          "name": "stdout",
          "output_type": "stream",
          "text": [
            "torch.Size([5, 3, 4, 1])\n",
            "torch.Size([3, 1, 7])\n",
            "torch.Size([3, 3, 3])\n"
          ]
        }
      ],
      "source": [
        "t19 = torch.empty(5, 1, 4, 1)\n",
        "t20 = torch.empty(3, 1, 1)\n",
        "print((t19 + t20).size())\n",
        "\n",
        "t21 = torch.empty(1)\n",
        "t22 = torch.empty(3, 1, 7)\n",
        "print((t21 + t22).size())\n",
        "\n",
        "t23 = torch.ones(3, 3, 3)\n",
        "t24 = torch.ones(3, 1, 3)\n",
        "print((t23 + t24).size())"
      ]
    },
    {
      "cell_type": "code",
      "execution_count": null,
      "id": "0d8131fa",
      "metadata": {
        "id": "0d8131fa"
      },
      "outputs": [],
      "source": [
        "# t25 = torch.empty(5, 2, 4, 1)\n",
        "# t26 = torch.empty(3, 1, 1)\n",
        "# print((t25 + t26).size())\n",
        "# RuntimeError: The size of tensor a (2) must match\n",
        "# the size of tensor b (3) at non-singleton dimension 1"
      ]
    },
    {
      "cell_type": "markdown",
      "id": "1b603750",
      "metadata": {
        "id": "1b603750"
      },
      "source": [
        "### 차원이 둘 다 1이 아니고, 다르면 오류"
      ]
    },
    {
      "cell_type": "code",
      "execution_count": null,
      "id": "c6109b5b",
      "metadata": {
        "id": "c6109b5b",
        "outputId": "dd804f05-8f6b-47c5-a31b-4fa9ed3fcabe"
      },
      "outputs": [
        {
          "name": "stdout",
          "output_type": "stream",
          "text": [
            "tensor([5., 5., 5., 5.])\n",
            "tensor([25., 25., 25., 25.])\n",
            "tensor([  1.,   4.,  27., 256.])\n"
          ]
        }
      ],
      "source": [
        "t27 = torch.ones(4) * 5\n",
        "print(t27)\n",
        "\n",
        "t28 = torch.pow(t27, 2)\n",
        "print(t28)\n",
        "\n",
        "exp = torch.arange(1., 5.)\n",
        "a = torch.arange(1., 5.)\n",
        "t29 = torch.pow(a, exp)\n",
        "print(t29)"
      ]
    },
    {
      "cell_type": "markdown",
      "id": "31a40b9e",
      "metadata": {
        "id": "31a40b9e"
      },
      "source": [
        "### torch.pow() : 각 원소 ? 제곱"
      ]
    },
    {
      "cell_type": "markdown",
      "id": "e36368bc",
      "metadata": {
        "id": "e36368bc"
      },
      "source": [
        "# J"
      ]
    },
    {
      "cell_type": "code",
      "execution_count": null,
      "id": "c77623d9",
      "metadata": {
        "id": "c77623d9",
        "outputId": "335a7a62-ac3e-4efd-d1e5-6f0647f977ca"
      },
      "outputs": [
        {
          "name": "stdout",
          "output_type": "stream",
          "text": [
            "tensor([5, 6, 7, 8, 9])\n",
            "tensor([ 1,  6, 11])\n",
            "tensor(7)\n",
            "tensor([ 4,  9, 14])\n"
          ]
        }
      ],
      "source": [
        "x = torch.tensor(\n",
        "  [[0, 1, 2, 3, 4],\n",
        "   [5, 6, 7, 8, 9],\n",
        "   [10, 11, 12, 13, 14]]\n",
        ")\n",
        "\n",
        "print(x[1])\n",
        "print(x[:, 1])\n",
        "print(x[1, 2])\n",
        "print(x[:, -1])"
      ]
    },
    {
      "cell_type": "markdown",
      "id": "2e6c9b50",
      "metadata": {
        "id": "2e6c9b50"
      },
      "source": [
        "### x[1] : 두 번째 행 선택\n",
        "### x[:, 1] : 모든 행, 두 번째 열 선택\n",
        "### x[1, 2] : 2행, 3열 원소 선택\n",
        "### x[:, -1] : 모든 행, 마지막 열 선택"
      ]
    },
    {
      "cell_type": "code",
      "execution_count": null,
      "id": "f73f48ff",
      "metadata": {
        "id": "f73f48ff",
        "outputId": "e80ce1bd-a3c7-408b-9b1d-ea5c693475fa"
      },
      "outputs": [
        {
          "name": "stdout",
          "output_type": "stream",
          "text": [
            "tensor([[ 5,  6,  7,  8,  9],\n",
            "        [10, 11, 12, 13, 14]])\n",
            "tensor([[ 8,  9],\n",
            "        [13, 14]])\n"
          ]
        }
      ],
      "source": [
        "print(x[1:])\n",
        "print(x[1:, 3:])"
      ]
    },
    {
      "cell_type": "markdown",
      "id": "65c6e328",
      "metadata": {
        "id": "65c6e328"
      },
      "source": [
        "### x[1:] : 1행부터 끝까지 선택\n",
        "### x[1:, 3:] : 1행부터 끝까지, 3열부터 끝까지"
      ]
    },
    {
      "cell_type": "code",
      "execution_count": null,
      "id": "0bdcbd4f",
      "metadata": {
        "id": "0bdcbd4f",
        "outputId": "40cf10f4-ae54-4909-fe68-35a80fadf794"
      },
      "outputs": [
        {
          "name": "stdout",
          "output_type": "stream",
          "text": [
            "tensor([[0., 0., 0., 0., 0., 0.],\n",
            "        [0., 0., 1., 0., 0., 0.],\n",
            "        [0., 0., 1., 0., 0., 0.],\n",
            "        [0., 0., 1., 0., 0., 0.],\n",
            "        [0., 0., 0., 0., 0., 0.],\n",
            "        [0., 0., 0., 0., 0., 0.]])\n",
            "tensor([[0., 1., 0.],\n",
            "        [0., 1., 0.],\n",
            "        [0., 1., 0.]])\n"
          ]
        }
      ],
      "source": [
        "y = torch.zeros((6, 6))\n",
        "y[1:4, 2] = 1\n",
        "print(y)\n",
        "\n",
        "print(y[1:4, 1:4])"
      ]
    },
    {
      "cell_type": "markdown",
      "id": "ab81d750",
      "metadata": {
        "id": "ab81d750"
      },
      "source": [
        "### y[1:4, 2] = 1 : 1~3행, 3번째 열 -> 영역 값 1로 변경\n",
        "### y[1:4, 1:4] : 1~3행, 1~3열 선택"
      ]
    },
    {
      "cell_type": "code",
      "execution_count": null,
      "id": "c3262efb",
      "metadata": {
        "id": "c3262efb",
        "outputId": "7fb0b140-5ecd-4f01-a3fd-b066c3fdc10d"
      },
      "outputs": [
        {
          "name": "stdout",
          "output_type": "stream",
          "text": [
            "tensor([[1, 2, 3, 4],\n",
            "        [2, 3, 4, 5]])\n",
            "tensor([[3, 4],\n",
            "        [6, 7]])\n",
            "tensor([[2, 3, 4],\n",
            "        [3, 4, 5],\n",
            "        [6, 7, 8]])\n",
            "tensor([[1, 2, 3, 4],\n",
            "        [2, 0, 0, 5],\n",
            "        [5, 0, 0, 8]])\n"
          ]
        }
      ],
      "source": [
        "z = torch.tensor(\n",
        "  [[1, 2, 3, 4],\n",
        "   [2, 3, 4, 5],\n",
        "   [5, 6, 7, 8]]\n",
        ")\n",
        "print(z[:2])\n",
        "print(z[1:, 1:3])\n",
        "print(z[:, 1:])\n",
        "\n",
        "z[1:, 1:3] = 0\n",
        "print(z)"
      ]
    },
    {
      "cell_type": "markdown",
      "id": "6e25a09e",
      "metadata": {
        "id": "6e25a09e"
      },
      "source": [
        "### [:2] : 0,1 행 선택\n",
        "### [1:, 1:3] : 1행부터 끝까지, 1,2열\n",
        "### [:, 1:] : 모든 행, 1열부터 끝까지"
      ]
    },
    {
      "cell_type": "markdown",
      "id": "9c2215b5",
      "metadata": {
        "id": "9c2215b5"
      },
      "source": [
        "# K"
      ]
    },
    {
      "cell_type": "code",
      "execution_count": null,
      "id": "39a0e446",
      "metadata": {
        "id": "39a0e446",
        "outputId": "bb0232d0-f840-41eb-bdcd-69dececc2ffc"
      },
      "outputs": [
        {
          "name": "stdout",
          "output_type": "stream",
          "text": [
            "tensor([[1, 2],\n",
            "        [3, 4],\n",
            "        [5, 6]])\n",
            "tensor([[1, 2, 3, 4, 5, 6]])\n",
            "tensor([[0, 1, 2, 3],\n",
            "        [4, 5, 6, 7]])\n",
            "tensor([[0, 1, 2],\n",
            "        [3, 4, 5]])\n"
          ]
        }
      ],
      "source": [
        "t1 = torch.tensor([[1, 2, 3], [4, 5, 6]])\n",
        "t2 = t1.view(3, 2)\n",
        "t3 = t1.reshape(1, 6)\n",
        "print(t2)\n",
        "print(t3)\n",
        "\n",
        "t4 = torch.arange(8).view(2, 4)\n",
        "t5 = torch.arange(6).view(2, 3)\n",
        "print(t4)\n",
        "print(t5)"
      ]
    },
    {
      "cell_type": "markdown",
      "id": "6882925e",
      "metadata": {
        "id": "6882925e"
      },
      "source": [
        "### .view(), .reshape(), .arange() : 모양 변경"
      ]
    },
    {
      "cell_type": "code",
      "execution_count": null,
      "id": "a79e0942",
      "metadata": {
        "id": "a79e0942",
        "outputId": "d0b4bc06-7fda-4a57-f1e2-ac2c8cd79ab8"
      },
      "outputs": [
        {
          "name": "stdout",
          "output_type": "stream",
          "text": [
            "tensor([1, 2, 3])\n",
            "tensor([[1],\n",
            "        [2],\n",
            "        [3]])\n"
          ]
        }
      ],
      "source": [
        "t6 = torch.tensor([[[1], [2], [3]]])\n",
        "\n",
        "t7 = t6.squeeze()\n",
        "\n",
        "t8 = t6.squeeze(0)\n",
        "print(t7)\n",
        "print(t8)"
      ]
    },
    {
      "cell_type": "markdown",
      "id": "ebfa9707",
      "metadata": {
        "id": "ebfa9707"
      },
      "source": [
        "### .squeeze() : 크기가 1인 차원 모두 제거\n",
        "### .squeeze(0) : 0번째 차원만 확인 -> 크기가 1이므로 제거"
      ]
    },
    {
      "cell_type": "code",
      "execution_count": null,
      "id": "1cf45b57",
      "metadata": {
        "id": "1cf45b57",
        "outputId": "62d66a93-fd68-4c83-862e-6a89f5e98776"
      },
      "outputs": [
        {
          "name": "stdout",
          "output_type": "stream",
          "text": [
            "tensor([[1],\n",
            "        [2],\n",
            "        [3]])\n",
            "tensor([[[1, 2, 3]],\n",
            "\n",
            "        [[4, 5, 6]]]) torch.Size([2, 1, 3])\n"
          ]
        }
      ],
      "source": [
        "t9 = torch.tensor([1, 2, 3])\n",
        "\n",
        "t10 = t9.unsqueeze(1)\n",
        "print(t10)\n",
        "\n",
        "t11 = torch.tensor(\n",
        "  [[1, 2, 3],\n",
        "   [4, 5, 6]]\n",
        ")\n",
        "t12 = t11.unsqueeze(1)\n",
        "print(t12, t12.shape)"
      ]
    },
    {
      "cell_type": "markdown",
      "id": "b03389ac",
      "metadata": {
        "id": "b03389ac"
      },
      "source": [
        "### .unsqueeze(1) : 인덱스 1 위치에 새로운 차원 추가"
      ]
    },
    {
      "cell_type": "code",
      "execution_count": null,
      "id": "402044de",
      "metadata": {
        "id": "402044de",
        "outputId": "4734a0b3-2fb8-4499-bb53-64b695deaf3a"
      },
      "outputs": [
        {
          "name": "stdout",
          "output_type": "stream",
          "text": [
            "tensor([1, 2, 3, 4, 5, 6])\n",
            "tensor([1, 2, 3, 4, 5, 6, 7, 8])\n",
            "tensor([[1, 2, 3, 4],\n",
            "        [5, 6, 7, 8]])\n"
          ]
        }
      ],
      "source": [
        "t13 = torch.tensor([[1, 2, 3], [4, 5, 6]])\n",
        "\n",
        "t14 = t13.flatten()\n",
        "\n",
        "print(t14)\n",
        "\n",
        "t15 = torch.tensor([[[1, 2],\n",
        "                     [3, 4]],\n",
        "                    [[5, 6],\n",
        "                     [7, 8]]])\n",
        "t16 = torch.flatten(t15)\n",
        "\n",
        "t17 = torch.flatten(t15, start_dim=1)\n",
        "\n",
        "print(t16)\n",
        "print(t17)"
      ]
    },
    {
      "cell_type": "markdown",
      "id": "fc671485",
      "metadata": {
        "id": "fc671485"
      },
      "source": [
        "### .flatten() : 모든 차원을 1차원으로 평탄화\n",
        "### .flatten( , start_dim=1) : 1번 차원부터 끝까지 평탄화"
      ]
    },
    {
      "cell_type": "code",
      "execution_count": null,
      "id": "9696875e",
      "metadata": {
        "id": "9696875e",
        "outputId": "30847055-356a-45c2-8a0c-5ca95e560a91"
      },
      "outputs": [
        {
          "name": "stdout",
          "output_type": "stream",
          "text": [
            "torch.Size([2, 3, 5])\n",
            "torch.Size([5, 2, 3])\n",
            "tensor([[1, 2, 3],\n",
            "        [4, 5, 6]])\n",
            "tensor([[1, 4],\n",
            "        [2, 5],\n",
            "        [3, 6]])\n",
            "tensor([[1, 4],\n",
            "        [2, 5],\n",
            "        [3, 6]])\n",
            "tensor([[1, 4],\n",
            "        [2, 5],\n",
            "        [3, 6]])\n"
          ]
        }
      ],
      "source": [
        "t18 = torch.randn(2, 3, 5)\n",
        "print(t18.shape)\n",
        "print(torch.permute(t18, (2, 0, 1)).size())\n",
        "\n",
        "\n",
        "t19 = torch.tensor([[1, 2, 3], [4, 5, 6]])\n",
        "\n",
        "\n",
        "t20 = torch.permute(t19, dims=(0, 1))\n",
        "t21 = torch.permute(t19, dims=(1, 0))\n",
        "print(t20)\n",
        "print(t21)\n",
        "\n",
        "\n",
        "t22 = torch.transpose(t19, 0, 1)\n",
        "\n",
        "print(t22)\n",
        "\n",
        "t23 = torch.t(t19)\n",
        "\n",
        "print(t23)"
      ]
    },
    {
      "cell_type": "markdown",
      "id": "16bf0e35",
      "metadata": {
        "id": "16bf0e35"
      },
      "source": [
        "### .permute() : 차원 순서 변경\n",
        "### .permute( , dims=(0,1)) : 원래 차원 순서 그대로\n",
        "### .permute( , dims=(1,0)) : 전치\n",
        "### .transpose( , 0, 1) : 0번째 차원과 1번째 차원 교환\n",
        "### .t() : 2D 텐서 전용, transpose(0,1) 과 동일"
      ]
    },
    {
      "cell_type": "markdown",
      "id": "7cfaf48d",
      "metadata": {
        "id": "7cfaf48d"
      },
      "source": [
        "# ㅣ"
      ]
    },
    {
      "cell_type": "code",
      "execution_count": null,
      "id": "bfba2827",
      "metadata": {
        "id": "bfba2827",
        "outputId": "1cb7c997-06eb-49e8-dfdc-18a771f614ef"
      },
      "outputs": [
        {
          "name": "stdout",
          "output_type": "stream",
          "text": [
            "torch.Size([2, 6, 3])\n"
          ]
        }
      ],
      "source": [
        "t1 = torch.zeros([2, 1, 3])\n",
        "t2 = torch.zeros([2, 3, 3])\n",
        "t3 = torch.zeros([2, 2, 3])\n",
        "\n",
        "t4 = torch.cat([t1, t2, t3], dim=1)\n",
        "print(t4.shape)"
      ]
    },
    {
      "cell_type": "markdown",
      "id": "5044fabe",
      "metadata": {
        "id": "5044fabe"
      },
      "source": [
        "### .cat(tensors, dim=n) : 지정한 차원(dim=n)을 따라 텐서들을 이어붙임"
      ]
    },
    {
      "cell_type": "code",
      "execution_count": null,
      "id": "6c13e240",
      "metadata": {
        "id": "6c13e240",
        "outputId": "a43c9c20-a875-4d35-c612-d8b8cb1d0fbf"
      },
      "outputs": [
        {
          "name": "stdout",
          "output_type": "stream",
          "text": [
            "torch.Size([8])\n",
            "tensor([0, 1, 2, 3, 4, 5, 6, 7])\n"
          ]
        }
      ],
      "source": [
        "t5 = torch.arange(0, 3)\n",
        "t6 = torch.arange(3, 8)\n",
        "\n",
        "t7 = torch.cat((t5, t6), dim=0)\n",
        "print(t7.shape)\n",
        "print(t7)"
      ]
    },
    {
      "cell_type": "code",
      "execution_count": null,
      "id": "702e721a",
      "metadata": {
        "id": "702e721a",
        "outputId": "1a00f2af-80d4-4240-ed92-33b866f26e1d"
      },
      "outputs": [
        {
          "name": "stdout",
          "output_type": "stream",
          "text": [
            "torch.Size([4, 3])\n",
            "tensor([[ 0,  1,  2],\n",
            "        [ 3,  4,  5],\n",
            "        [ 6,  7,  8],\n",
            "        [ 9, 10, 11]])\n",
            "torch.Size([2, 6])\n",
            "tensor([[ 0,  1,  2,  6,  7,  8],\n",
            "        [ 3,  4,  5,  9, 10, 11]])\n"
          ]
        }
      ],
      "source": [
        "t8 = torch.arange(0, 6).reshape(2, 3)\n",
        "t9 = torch.arange(6, 12).reshape(2, 3)\n",
        "\n",
        "t10 = torch.cat((t8, t9), dim=0)\n",
        "print(t10.size())\n",
        "print(t10)\n",
        "\n",
        "t11 = torch.cat((t8, t9), dim=1)\n",
        "print(t11.size())\n",
        "print(t11)"
      ]
    },
    {
      "cell_type": "code",
      "execution_count": null,
      "id": "4429743d",
      "metadata": {
        "id": "4429743d",
        "outputId": "40db46d8-110d-4b7e-a534-41e3adbce561"
      },
      "outputs": [
        {
          "name": "stdout",
          "output_type": "stream",
          "text": [
            "torch.Size([6, 3])\n",
            "tensor([[ 0,  1,  2],\n",
            "        [ 3,  4,  5],\n",
            "        [ 6,  7,  8],\n",
            "        [ 9, 10, 11],\n",
            "        [12, 13, 14],\n",
            "        [15, 16, 17]])\n",
            "torch.Size([2, 9])\n",
            "tensor([[ 0,  1,  2,  6,  7,  8, 12, 13, 14],\n",
            "        [ 3,  4,  5,  9, 10, 11, 15, 16, 17]])\n"
          ]
        }
      ],
      "source": [
        "t12 = torch.arange(0, 6).reshape(2, 3)\n",
        "t13 = torch.arange(6, 12).reshape(2, 3)\n",
        "t14 = torch.arange(12, 18).reshape(2, 3)\n",
        "\n",
        "t15 = torch.cat((t12, t13, t14), dim=0)\n",
        "print(t15.size())\n",
        "print(t15)\n",
        "\n",
        "t16 = torch.cat((t12, t13, t14), dim=1)\n",
        "print(t16.size())\n",
        "print(t16)"
      ]
    },
    {
      "cell_type": "code",
      "execution_count": null,
      "id": "26fb7c78",
      "metadata": {
        "id": "26fb7c78",
        "outputId": "4471f2f1-265b-4f0c-93bd-6e5c83351561"
      },
      "outputs": [
        {
          "name": "stdout",
          "output_type": "stream",
          "text": [
            "torch.Size([2, 2, 3])\n",
            "tensor([[[ 0,  1,  2],\n",
            "         [ 3,  4,  5]],\n",
            "\n",
            "        [[ 6,  7,  8],\n",
            "         [ 9, 10, 11]]])\n",
            "torch.Size([1, 4, 3])\n",
            "tensor([[[ 0,  1,  2],\n",
            "         [ 3,  4,  5],\n",
            "         [ 6,  7,  8],\n",
            "         [ 9, 10, 11]]])\n",
            "torch.Size([1, 2, 6])\n",
            "tensor([[[ 0,  1,  2,  6,  7,  8],\n",
            "         [ 3,  4,  5,  9, 10, 11]]])\n"
          ]
        }
      ],
      "source": [
        "t17 = torch.arange(0, 6).reshape(1, 2, 3)\n",
        "t18 = torch.arange(6, 12).reshape(1, 2, 3)\n",
        "\n",
        "t19 = torch.cat((t17, t18), dim=0)\n",
        "print(t19.size())\n",
        "print(t19)\n",
        "\n",
        "t20 = torch.cat((t17, t18), dim=1)\n",
        "print(t20.size())\n",
        "print(t20)\n",
        "\n",
        "t21 = torch.cat((t17, t18), dim=2)\n",
        "print(t21.size())\n",
        "print(t21)"
      ]
    },
    {
      "cell_type": "markdown",
      "id": "4b12734f",
      "metadata": {
        "id": "4b12734f"
      },
      "source": [
        "# M"
      ]
    },
    {
      "cell_type": "code",
      "execution_count": null,
      "id": "a9c5c085",
      "metadata": {
        "id": "a9c5c085",
        "outputId": "e57a67f4-2568-4799-a79e-59fd97f614f6"
      },
      "outputs": [
        {
          "name": "stdout",
          "output_type": "stream",
          "text": [
            "torch.Size([2, 2, 3]) True\n",
            "torch.Size([2, 2, 3]) True\n",
            "torch.Size([2, 3, 2]) True\n"
          ]
        }
      ],
      "source": [
        "t1 = torch.tensor([[1, 2, 3], [4, 5, 6]])\n",
        "t2 = torch.tensor([[7, 8, 9], [10, 11, 12]])\n",
        "\n",
        "t3 = torch.stack([t1, t2], dim=0)\n",
        "t4 = torch.cat([t1.unsqueeze(dim=0), t2.unsqueeze(dim=0)], dim=0)\n",
        "print(t3.shape, t3.equal(t4))\n",
        "\n",
        "t5 = torch.stack([t1, t2], dim=1)\n",
        "t6 = torch.cat([t1.unsqueeze(dim=1), t2.unsqueeze(dim=1)], dim=1)\n",
        "print(t5.shape, t5.equal(t6))\n",
        "\n",
        "t7 = torch.stack([t1, t2], dim=2)\n",
        "t8 = torch.cat([t1.unsqueeze(dim=2), t2.unsqueeze(dim=2)], dim=2)\n",
        "print(t7.shape, t7.equal(t8))"
      ]
    },
    {
      "cell_type": "markdown",
      "id": "cfb65022",
      "metadata": {
        "id": "cfb65022"
      },
      "source": [
        "### stack(dim=0) -> (2,2,3) , unsqueeze(dim=0) + cat(dim=0) -> (2,2,3)\n",
        "### stack(dim=1) -> (2,2,3) , unsqueeze(dim=1) + cat(dim=1) -> (2,2,3)\n",
        "### stack(dim=2) -> (2,3,2) , unsqueeze(dim=2) + cat(dim=2) -> (2,3,2)"
      ]
    },
    {
      "cell_type": "code",
      "execution_count": null,
      "id": "38c02ab5",
      "metadata": {
        "id": "38c02ab5",
        "outputId": "8a7098d8-e477-4d0a-adfc-3207be1d9771"
      },
      "outputs": [
        {
          "name": "stdout",
          "output_type": "stream",
          "text": [
            "torch.Size([3]) torch.Size([3])\n",
            "torch.Size([2, 3])\n",
            "tensor([[0, 1, 2],\n",
            "        [3, 4, 5]])\n",
            "True\n",
            "torch.Size([3, 2])\n",
            "tensor([[0, 3],\n",
            "        [1, 4],\n",
            "        [2, 5]])\n",
            "True\n"
          ]
        }
      ],
      "source": [
        "t9 = torch.arange(0, 3)\n",
        "t10 = torch.arange(3, 6)\n",
        "\n",
        "print(t9.size(), t10.size())\n",
        "\n",
        "t11 = torch.stack((t9, t10), dim=0)\n",
        "print(t11.size())\n",
        "print(t11)\n",
        "\n",
        "\n",
        "t12 = torch.cat((t9.unsqueeze(0), t10.unsqueeze(0)), dim=0)\n",
        "print(t11.equal(t12))\n",
        "\n",
        "\n",
        "t13 = torch.stack((t9, t10), dim=1)\n",
        "print(t13.size())\n",
        "print(t13)\n",
        "\n",
        "t14 = torch.cat((t9.unsqueeze(1), t10.unsqueeze(1)), dim=1)\n",
        "print(t13.equal(t14))"
      ]
    },
    {
      "cell_type": "markdown",
      "id": "02caba56",
      "metadata": {
        "id": "02caba56"
      },
      "source": [
        "# N"
      ]
    },
    {
      "cell_type": "code",
      "execution_count": null,
      "id": "76ecde0a",
      "metadata": {
        "id": "76ecde0a",
        "outputId": "22269009-75d4-4bcf-88ac-fb4eb21a64b0"
      },
      "outputs": [
        {
          "name": "stdout",
          "output_type": "stream",
          "text": [
            "tensor([[1, 2, 3],\n",
            "        [4, 5, 6]])\n",
            "torch.Size([2, 2, 3])\n",
            "torch.Size([2, 2, 3])\n",
            "torch.Size([4, 2, 3])\n",
            "tensor([[[ 1,  2,  3],\n",
            "         [ 4,  5,  6]],\n",
            "\n",
            "        [[ 7,  8,  9],\n",
            "         [10, 11, 12]],\n",
            "\n",
            "        [[13, 14, 15],\n",
            "         [16, 17, 18]],\n",
            "\n",
            "        [[19, 20, 21],\n",
            "         [22, 23, 24]]])\n"
          ]
        }
      ],
      "source": [
        "t1 = torch.tensor([1, 2, 3])\n",
        "t2 = torch.tensor([4, 5, 6])\n",
        "t3 = torch.vstack((t1, t2))\n",
        "print(t3)\n",
        "\n",
        "\n",
        "t4 = torch.tensor([[1], [2], [3]])\n",
        "t5 = torch.tensor([[4], [5], [6]])\n",
        "t6 = torch.vstack((t4, t5))\n",
        "\n",
        "\n",
        "t7 = torch.tensor([\n",
        "  [[1, 2, 3], [4, 5, 6]],\n",
        "  [[7, 8, 9], [10, 11, 12]]\n",
        "])\n",
        "print(t7.shape)\n",
        "\n",
        "\n",
        "t8 = torch.tensor([\n",
        "  [[13, 14, 15], [16, 17, 18]],\n",
        "  [[19, 20, 21], [22, 23, 24]]\n",
        "])\n",
        "print(t8.shape)\n",
        "\n",
        "\n",
        "t9 = torch.vstack([t7, t8])\n",
        "print(t9.shape)\n",
        "\n",
        "\n",
        "print(t9)"
      ]
    },
    {
      "cell_type": "markdown",
      "id": "46667cca",
      "metadata": {
        "id": "46667cca"
      },
      "source": [
        "### vstack : 1D 텐서를 자동으로 (1,N)으로 바꿔서 위/아래로 쌓음"
      ]
    },
    {
      "cell_type": "code",
      "execution_count": null,
      "id": "13066464",
      "metadata": {
        "id": "13066464",
        "outputId": "bb42e6fe-d9fb-4a40-e6e5-8debcdef4b3b"
      },
      "outputs": [
        {
          "name": "stdout",
          "output_type": "stream",
          "text": [
            "tensor([1, 2, 3, 4, 5, 6])\n",
            "tensor([[1, 4],\n",
            "        [2, 5],\n",
            "        [3, 6]])\n",
            "torch.Size([2, 2, 3])\n",
            "torch.Size([2, 2, 3])\n",
            "torch.Size([2, 4, 3])\n",
            "tensor([[[ 1,  2,  3],\n",
            "         [ 4,  5,  6],\n",
            "         [13, 14, 15],\n",
            "         [16, 17, 18]],\n",
            "\n",
            "        [[ 7,  8,  9],\n",
            "         [10, 11, 12],\n",
            "         [19, 20, 21],\n",
            "         [22, 23, 24]]])\n"
          ]
        }
      ],
      "source": [
        "t10 = torch.tensor([1, 2, 3])\n",
        "t11 = torch.tensor([4, 5, 6])\n",
        "t12 = torch.hstack((t10, t11))\n",
        "print(t12)\n",
        "\n",
        "t13 = torch.tensor([[1], [2], [3]])\n",
        "t14 = torch.tensor([[4], [5], [6]])\n",
        "t15 = torch.hstack((t13, t14))\n",
        "print(t15)\n",
        "\n",
        "t16 = torch.tensor([\n",
        "  [[1, 2, 3], [4, 5, 6]],\n",
        "  [[7, 8, 9], [10, 11, 12]]\n",
        "])\n",
        "print(t16.shape)\n",
        "\n",
        "t17 = torch.tensor([\n",
        "  [[13, 14, 15], [16, 17, 18]],\n",
        "  [[19, 20, 21], [22, 23, 24]]\n",
        "])\n",
        "print(t17.shape)\n",
        "\n",
        "t18 = torch.hstack([t16, t17])\n",
        "print(t18.shape)\n",
        "\n",
        "print(t18)"
      ]
    },
    {
      "cell_type": "markdown",
      "id": "93a64227",
      "metadata": {
        "id": "93a64227"
      },
      "source": [
        "### hstack = cat(dim=1) : 열 방향으로 합침\n",
        "### hstack = cat(dim-1) : 마지막 차원 기준으로 합침"
      ]
    },
    {
      "cell_type": "markdown",
      "id": "cadf6ac5",
      "metadata": {
        "id": "cadf6ac5"
      },
      "source": [
        "### 숙제후기"
      ]
    },
    {
      "cell_type": "markdown",
      "id": "b1901c8a",
      "metadata": {
        "id": "b1901c8a"
      },
      "source": [
        "##### Dataset/DataLoader 구조를 통해 데이터를 어떻게 준비하고 배치 단위로 꺼내는지 연습하고, nn.Module을 상속해 모델 정의 및 forward 함수로 연산 과정을 구현하는 기본 패턴을 습득할 수 있었습니다.\n",
        "##### 원본 데이터를 바로 학습에 사용하는 것이 아닌, 평균/분산 정규화, 원-핫 인코딩 등을 통해 학습 안정성을 확보해야 한다는 것을 알 수 있었습니다.\n",
        "##### 학습 과정에서 loss.backward() -> optimizer.step() 흐름을 직접 짜보면서 개념을 익힐 수 있었습니다.\n",
        "##### 전체 데이터를 단순 학습에 사용하는 것이 아닌, validation/test로 남겨둬야 하는 이유를 알 수 있었고, 성능 평가에서 과적합 여부를 확인할 수 있는 기본 실험 설계 방법을 배울 수 있었습니다.\n",
        "##### 차원 오류나 타입 불일치 같은 이슈를 해결하면서 기본적인 디버깅 경험을 할 수 있었습니다."
      ]
    }
  ],
  "metadata": {
    "kernelspec": {
      "display_name": "link_dl",
      "language": "python",
      "name": "python3"
    },
    "language_info": {
      "codemirror_mode": {
        "name": "ipython",
        "version": 3
      },
      "file_extension": ".py",
      "mimetype": "text/x-python",
      "name": "python",
      "nbconvert_exporter": "python",
      "pygments_lexer": "ipython3",
      "version": "3.10.18"
    },
    "colab": {
      "provenance": [],
      "include_colab_link": true
    }
  },
  "nbformat": 4,
  "nbformat_minor": 5
}