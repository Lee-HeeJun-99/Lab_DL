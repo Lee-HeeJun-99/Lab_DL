{
 "cells": [
  {
   "cell_type": "markdown",
   "id": "51062110",
   "metadata": {},
   "source": [
    "# 셀 1 — 경로/임포트/시드/데이터 로드"
   ]
  },
  {
   "cell_type": "code",
   "execution_count": null,
   "id": "5d6c1da5",
   "metadata": {},
   "outputs": [
    {
     "name": "stdout",
     "output_type": "stream",
     "text": [
      "Device: cpu\n"
     ]
    },
    {
     "name": "stderr",
     "output_type": "stream",
     "text": [
      "c:\\Users\\lhj\\git\\link_dl\\_03_homeworks\\homework_2\\titanic_dataset.py:128: FutureWarning: A value is trying to be set on a copy of a DataFrame or Series through chained assignment using an inplace method.\n",
      "The behavior will change in pandas 3.0. This inplace method will never work because the intermediate object on which we are setting values always behaves as a copy.\n",
      "\n",
      "For example, when doing 'df[col].method(value, inplace=True)', try using 'df.method({col: value}, inplace=True)' or df[col] = df[col].method(value) instead, to perform the operation inplace on the original object.\n",
      "\n",
      "\n",
      "  all_df[\"alone\"].fillna(0, inplace=True)\n",
      "c:\\Users\\lhj\\git\\link_dl\\_03_homeworks\\homework_2\\titanic_dataset.py:147: FutureWarning: A value is trying to be set on a copy of a DataFrame or Series through chained assignment using an inplace method.\n",
      "The behavior will change in pandas 3.0. This inplace method will never work because the intermediate object on which we are setting values always behaves as a copy.\n",
      "\n",
      "For example, when doing 'df[col].method(value, inplace=True)', try using 'df.method({col: value}, inplace=True)' or df[col] = df[col].method(value) instead, to perform the operation inplace on the original object.\n",
      "\n",
      "\n",
      "  all_df[\"Embarked\"].fillna(\"missing\", inplace=True)\n"
     ]
    },
    {
     "name": "stdout",
     "output_type": "stream",
     "text": [
      "Index(['Survived', 'Pclass', 'Sex', 'Age', 'SibSp', 'Parch', 'Fare',\n",
      "       'Embarked', 'title', 'family_num', 'alone'],\n",
      "      dtype='object')\n",
      "   Survived  Pclass  Sex   Age  SibSp  Parch     Fare  Embarked  title  \\\n",
      "0       0.0       3    1  22.0      1      0   7.2500         2      2   \n",
      "1       1.0       1    0  38.0      1      0  71.2833         0      3   \n",
      "2       1.0       3    0  26.0      0      0   7.9250         2      1   \n",
      "3       1.0       1    0  35.0      1      0  53.1000         2      3   \n",
      "4       0.0       3    1  35.0      0      0   8.0500         2      2   \n",
      "5       0.0       3    1  29.0      0      0   8.4583         1      2   \n",
      "6       0.0       1    1  54.0      0      0  51.8625         2      2   \n",
      "7       0.0       3    1   2.0      3      1  21.0750         2      0   \n",
      "8       1.0       3    0  27.0      0      2  11.1333         2      3   \n",
      "9       1.0       2    0  14.0      1      0  30.0708         0      3   \n",
      "\n",
      "   family_num  alone  \n",
      "0           1    0.0  \n",
      "1           1    0.0  \n",
      "2           0    1.0  \n",
      "3           1    0.0  \n",
      "4           0    1.0  \n",
      "5           0    1.0  \n",
      "6           0    1.0  \n",
      "7           4    0.0  \n",
      "8           2    0.0  \n",
      "9           1    0.0  \n",
      "Data Size: 891, Input Shape: torch.Size([891, 10]), Target Shape: torch.Size([891])\n",
      "in_dim=10, |train|=713, |val|=178, |test|=418\n",
      "TEST_CSV_PATH: c:\\Users\\lhj\\git\\link_dl\\_03_homeworks\\homework_2\\test.csv\n"
     ]
    }
   ],
   "source": [
    "import os, sys, time, random\n",
    "import numpy as np\n",
    "import pandas as pd\n",
    "\n",
    "import torch\n",
    "import torch.nn as nn\n",
    "from torch.utils.data import DataLoader\n",
    "\n",
    "# titanic_dataset.py 경로 추가\n",
    "sys.path.append(os.path.abspath(\"../_03_homeworks/homework_2\"))\n",
    "\n",
    "from titanic_dataset import get_preprocessed_dataset \n",
    "\n",
    "# 실험 반복 시 결과 변동을 최소화\n",
    "def set_seed(seed=42):\n",
    "    random.seed(seed); np.random.seed(seed)\n",
    "    torch.manual_seed(seed); torch.cuda.manual_seed_all(seed)\n",
    "    torch.backends.cudnn.deterministic = True\n",
    "    torch.backends.cudnn.benchmark = False\n",
    "\n",
    "set_seed(42)\n",
    "device = torch.device(\"cuda\" if torch.cuda.is_available() else \"cpu\")\n",
    "print(\"Device:\", device)\n",
    "\n",
    "# 데이터셋 로드\n",
    "train_ds, val_ds, test_ds = get_preprocessed_dataset()\n",
    "in_dim = int(train_ds[0][\"input\"].numel())\n",
    "print(f\"in_dim={in_dim}, |train|={len(train_ds)}, |val|={len(val_ds)}, |test|={len(test_ds)}\")\n",
    "\n",
    "# 제출용 PassengerId를 위해 test.csv 경로 확보\n",
    "TEST_CSV_PATH = os.path.abspath(\"../_03_homeworks/homework_2/test.csv\")\n",
    "if not os.path.exists(TEST_CSV_PATH):\n",
    "    TEST_CSV_PATH = os.path.abspath(\"./test.csv\")  # 대안\n",
    "print(\"TEST_CSV_PATH:\", TEST_CSV_PATH)\n"
   ]
  },
  {
   "cell_type": "markdown",
   "id": "3a478bbe",
   "metadata": {},
   "source": [
    "# 셀 2 — 모델/학습 유틸(옵션: W&B 로깅)"
   ]
  },
  {
   "cell_type": "code",
   "execution_count": null,
   "id": "a3a5f9e2",
   "metadata": {},
   "outputs": [],
   "source": [
    "USE_WANDB = True\n",
    "WANDB_PROJECT = \"titanic-grid\"\n",
    "\n",
    "if USE_WANDB:\n",
    "    try:\n",
    "        import wandb\n",
    "    except Exception as e:\n",
    "        print(\"[WARN] wandb import 실패 -> 로깅 비활성화:\", e)\n",
    "        USE_WANDB = False\n",
    "        wandb = None\n",
    "else:\n",
    "    wandb = None\n",
    "\n",
    "# 활성화 함수 스위치: argparse 없이 문자열로 아키텍처 교체 가능\n",
    "ACTIVATIONS = {\n",
    "    \"sigmoid\": nn.Sigmoid,\n",
    "    \"relu\": nn.ReLU,\n",
    "    \"elu\": nn.ELU,\n",
    "    \"leaky_relu\": nn.LeakyReLU,\n",
    "}\n",
    "\n",
    "class MLP(nn.Module):\n",
    "    # hidden_dims/activation을 바꾸며 실험 가능\n",
    "    def __init__(self, in_dim: int, hidden_dims=(64, 32), num_classes=2, act=\"relu\", dropout=0.0):\n",
    "        super().__init__()\n",
    "        act_layer = ACTIVATIONS[act]\n",
    "        dims = [in_dim] + list(hidden_dims)\n",
    "        layers = []\n",
    "        for i in range(len(dims) - 1):\n",
    "            layers += [\n",
    "                nn.Linear(dims[i], dims[i+1]),\n",
    "                nn.BatchNorm1d(dims[i+1]),\n",
    "                act_layer()\n",
    "            ]\n",
    "            if dropout > 0:\n",
    "                layers.append(nn.Dropout(dropout))\n",
    "        layers.append(nn.Linear(dims[-1], num_classes)) # 최종 분류 헤드\n",
    "        self.net = nn.Sequential(*layers)\n",
    "    def forward(self, x): return self.net(x)\n",
    "\n",
    "# 검증 루프: grad 비활성화로 속도/메모리 절약, CrossEntropyLoss 및 정확도 계산\n",
    "@torch.no_grad()\n",
    "def evaluate(model, loader, device):\n",
    "    model.eval()\n",
    "    ce = nn.CrossEntropyLoss()\n",
    "    tot_loss, tot_correct, tot = 0.0, 0, 0\n",
    "    for batch in loader:\n",
    "        x = batch[\"input\"].to(device)\n",
    "        y = batch[\"target\"].to(device)\n",
    "        logits = model(x)\n",
    "        loss = ce(logits, y)\n",
    "        pred = torch.argmax(logits, dim=1)\n",
    "        tot_loss += loss.item() * x.size(0)\n",
    "        tot_correct += (pred == y).sum().item()\n",
    "        tot += x.size(0)\n",
    "    return tot_loss / tot, tot_correct / tot\n",
    "\n",
    "def train_one_run(\n",
    "    activation=\"relu\", # 활성화 함수 비교\n",
    "    batch_size=32, # 배치 크기 비교\n",
    "    hidden_dims=(64, 32),\n",
    "    dropout=0.0,\n",
    "    epochs=50,\n",
    "    lr=1e-3,\n",
    "    weight_decay=0.0,\n",
    "    device=device,\n",
    "    use_wandb=USE_WANDB, # WandB 로깅 on/off\n",
    "    wandb_project=WANDB_PROJECT\n",
    "):\n",
    "    \n",
    "    set_seed(42) # 조합별 시드 고정: 공정 비교\n",
    "\n",
    "    #  DataLoader 구성: 배치 크기만 다르게 설정해 비교\n",
    "    train_loader = DataLoader(train_ds, batch_size=batch_size, shuffle=True)\n",
    "    val_loader   = DataLoader(val_ds, batch_size=len(val_ds), shuffle=False)\n",
    "\n",
    "    model = MLP(in_dim=in_dim, hidden_dims=hidden_dims, num_classes=2, act=activation, dropout=dropout).to(device)\n",
    "    ce = nn.CrossEntropyLoss()\n",
    "    opt = torch.optim.Adam(model.parameters(), lr=lr, weight_decay=weight_decay)\n",
    "\n",
    "    # 필요 시 WandB로 epoch별 loss/acc 로깅\n",
    "    run = None\n",
    "    if use_wandb:\n",
    "        run = wandb.init(\n",
    "            project=wandb_project,\n",
    "            name=f\"act={activation}|bs={batch_size}\",\n",
    "            config={\n",
    "                \"activation\": activation, \"batch_size\": batch_size, \"hidden_dims\": hidden_dims,\n",
    "                \"dropout\": dropout, \"epochs\": epochs, \"lr\": lr, \"weight_decay\": weight_decay\n",
    "            }\n",
    "        )\n",
    "\n",
    "    best = {\"val_acc\": -1.0, \"epoch\": -1, \"state\": None, \"val_loss\": None, \"train_loss\": None, \"train_acc\": None}\n",
    "    for ep in range(1, epochs + 1):\n",
    "        model.train()\n",
    "        tl, tc, n = 0.0, 0, 0\n",
    "        for batch in train_loader:\n",
    "            x = batch[\"input\"].to(device); y = batch[\"target\"].to(device)\n",
    "            logits = model(x); loss = ce(logits, y)\n",
    "            opt.zero_grad(); loss.backward(); opt.step() # 누적된 기울기 초기화, 역전파, 파라미터 갱신\n",
    "            pred = torch.argmax(logits, 1)\n",
    "            tl += loss.item() * x.size(0); tc += (pred == y).sum().item(); n += x.size(0)\n",
    "        train_loss = tl / n\n",
    "        train_acc  = tc / n\n",
    "\n",
    "        val_loss, val_acc = evaluate(model, val_loader, device)\n",
    "\n",
    "        if use_wandb:\n",
    "            wandb.log({\"epoch\": ep, \"train/loss\": train_loss, \"train/acc\": train_acc,\n",
    "                       \"val/loss\": val_loss, \"val/acc\": val_acc})\n",
    "\n",
    "        # 베스트 모델 스냅샷 보관\n",
    "        if val_acc > best[\"val_acc\"]:\n",
    "            best.update({\n",
    "                \"val_acc\": val_acc, \"epoch\": ep, \"state\": {k: v.detach().cpu().clone() for k,v in model.state_dict().items()},\n",
    "                \"val_loss\": val_loss, \"train_loss\": train_loss, \"train_acc\": train_acc\n",
    "            })\n",
    "\n",
    "    if run is not None:\n",
    "        run.finish()\n",
    "\n",
    "    return best\n"
   ]
  },
  {
   "cell_type": "markdown",
   "id": "32db2448",
   "metadata": {},
   "source": [
    "# 셀 3 — 16개 조합 학습 & 결과표"
   ]
  },
  {
   "cell_type": "code",
   "execution_count": null,
   "id": "9fe5ae25",
   "metadata": {},
   "outputs": [
    {
     "name": "stdout",
     "output_type": "stream",
     "text": [
      "▶ run: activation=sigmoid, batch_size=16\n"
     ]
    },
    {
     "data": {
      "text/html": [],
      "text/plain": [
       "<IPython.core.display.HTML object>"
      ]
     },
     "metadata": {},
     "output_type": "display_data"
    },
    {
     "data": {
      "text/html": [
       "Tracking run with wandb version 0.22.1"
      ],
      "text/plain": [
       "<IPython.core.display.HTML object>"
      ]
     },
     "metadata": {},
     "output_type": "display_data"
    },
    {
     "data": {
      "text/html": [
       "Run data is saved locally in <code>c:\\Users\\lhj\\git\\link_dl\\_04_your_code\\wandb\\run-20251014_140235-83dooabd</code>"
      ],
      "text/plain": [
       "<IPython.core.display.HTML object>"
      ]
     },
     "metadata": {},
     "output_type": "display_data"
    },
    {
     "data": {
      "text/html": [
       "Syncing run <strong><a href='https://wandb.ai/lhj5671-korea-university-of-technology-and-education/titanic-grid/runs/83dooabd' target=\"_blank\">act=sigmoid|bs=16</a></strong> to <a href='https://wandb.ai/lhj5671-korea-university-of-technology-and-education/titanic-grid' target=\"_blank\">Weights & Biases</a> (<a href='https://wandb.me/developer-guide' target=\"_blank\">docs</a>)<br>"
      ],
      "text/plain": [
       "<IPython.core.display.HTML object>"
      ]
     },
     "metadata": {},
     "output_type": "display_data"
    },
    {
     "data": {
      "text/html": [
       " View project at <a href='https://wandb.ai/lhj5671-korea-university-of-technology-and-education/titanic-grid' target=\"_blank\">https://wandb.ai/lhj5671-korea-university-of-technology-and-education/titanic-grid</a>"
      ],
      "text/plain": [
       "<IPython.core.display.HTML object>"
      ]
     },
     "metadata": {},
     "output_type": "display_data"
    },
    {
     "data": {
      "text/html": [
       " View run at <a href='https://wandb.ai/lhj5671-korea-university-of-technology-and-education/titanic-grid/runs/83dooabd' target=\"_blank\">https://wandb.ai/lhj5671-korea-university-of-technology-and-education/titanic-grid/runs/83dooabd</a>"
      ],
      "text/plain": [
       "<IPython.core.display.HTML object>"
      ]
     },
     "metadata": {},
     "output_type": "display_data"
    },
    {
     "data": {
      "text/html": [],
      "text/plain": [
       "<IPython.core.display.HTML object>"
      ]
     },
     "metadata": {},
     "output_type": "display_data"
    },
    {
     "data": {
      "text/html": [
       "<br>    <style><br>        .wandb-row {<br>            display: flex;<br>            flex-direction: row;<br>            flex-wrap: wrap;<br>            justify-content: flex-start;<br>            width: 100%;<br>        }<br>        .wandb-col {<br>            display: flex;<br>            flex-direction: column;<br>            flex-basis: 100%;<br>            flex: 1;<br>            padding: 10px;<br>        }<br>    </style><br><div class=\"wandb-row\"><div class=\"wandb-col\"><h3>Run history:</h3><br/><table class=\"wandb\"><tr><td>epoch</td><td>▁▁▁▁▂▂▂▂▂▃▃▃▃▃▄▄▄▄▄▄▅▅▅▅▅▆▆▆▆▆▆▇▇▇▇▇▇███</td></tr><tr><td>train/acc</td><td>▁▃▃▅▆▇▇▇▇▇▇▇█▇▇▇▇▇█▇▇▇▇█▇█▇▇▇▇█▇█▇▇▇████</td></tr><tr><td>train/loss</td><td>█▇▆▅▄▃▂▂▂▃▃▂▂▂▃▂▂▁▂▂▂▂▂▁▂▂▁▂▂▂▁▁▃▂▂▂▂▂▂▁</td></tr><tr><td>val/acc</td><td>▁▁▂▂▅▆█▇█▇██▇▆▇▇▇▇▇█▇▇█▇▇▇▇▅▆▇▇▇▇▇█▇██▇▇</td></tr><tr><td>val/loss</td><td>██▇▆▄▃▂▂▂▂▁▂▁▂▂▁▁▂▁▂▁▂▂▁▁▁▂▂▂▂▁▁▁▁▁▁▁▁▁▂</td></tr></table><br/></div><div class=\"wandb-col\"><h3>Run summary:</h3><br/><table class=\"wandb\"><tr><td>epoch</td><td>50</td></tr><tr><td>train/acc</td><td>0.80224</td></tr><tr><td>train/loss</td><td>0.44033</td></tr><tr><td>val/acc</td><td>0.84831</td></tr><tr><td>val/loss</td><td>0.41918</td></tr></table><br/></div></div>"
      ],
      "text/plain": [
       "<IPython.core.display.HTML object>"
      ]
     },
     "metadata": {},
     "output_type": "display_data"
    },
    {
     "data": {
      "text/html": [
       " View run <strong style=\"color:#cdcd00\">act=sigmoid|bs=16</strong> at: <a href='https://wandb.ai/lhj5671-korea-university-of-technology-and-education/titanic-grid/runs/83dooabd' target=\"_blank\">https://wandb.ai/lhj5671-korea-university-of-technology-and-education/titanic-grid/runs/83dooabd</a><br> View project at: <a href='https://wandb.ai/lhj5671-korea-university-of-technology-and-education/titanic-grid' target=\"_blank\">https://wandb.ai/lhj5671-korea-university-of-technology-and-education/titanic-grid</a><br>Synced 5 W&B file(s), 0 media file(s), 0 artifact file(s) and 0 other file(s)"
      ],
      "text/plain": [
       "<IPython.core.display.HTML object>"
      ]
     },
     "metadata": {},
     "output_type": "display_data"
    },
    {
     "data": {
      "text/html": [
       "Find logs at: <code>.\\wandb\\run-20251014_140235-83dooabd\\logs</code>"
      ],
      "text/plain": [
       "<IPython.core.display.HTML object>"
      ]
     },
     "metadata": {},
     "output_type": "display_data"
    },
    {
     "name": "stdout",
     "output_type": "stream",
     "text": [
      "▶ run: activation=sigmoid, batch_size=32\n"
     ]
    },
    {
     "data": {
      "text/html": [],
      "text/plain": [
       "<IPython.core.display.HTML object>"
      ]
     },
     "metadata": {},
     "output_type": "display_data"
    },
    {
     "data": {
      "text/html": [
       "Tracking run with wandb version 0.22.1"
      ],
      "text/plain": [
       "<IPython.core.display.HTML object>"
      ]
     },
     "metadata": {},
     "output_type": "display_data"
    },
    {
     "data": {
      "text/html": [
       "Run data is saved locally in <code>c:\\Users\\lhj\\git\\link_dl\\_04_your_code\\wandb\\run-20251014_140248-3mdt5jy2</code>"
      ],
      "text/plain": [
       "<IPython.core.display.HTML object>"
      ]
     },
     "metadata": {},
     "output_type": "display_data"
    },
    {
     "data": {
      "text/html": [
       "Syncing run <strong><a href='https://wandb.ai/lhj5671-korea-university-of-technology-and-education/titanic-grid/runs/3mdt5jy2' target=\"_blank\">act=sigmoid|bs=32</a></strong> to <a href='https://wandb.ai/lhj5671-korea-university-of-technology-and-education/titanic-grid' target=\"_blank\">Weights & Biases</a> (<a href='https://wandb.me/developer-guide' target=\"_blank\">docs</a>)<br>"
      ],
      "text/plain": [
       "<IPython.core.display.HTML object>"
      ]
     },
     "metadata": {},
     "output_type": "display_data"
    },
    {
     "data": {
      "text/html": [
       " View project at <a href='https://wandb.ai/lhj5671-korea-university-of-technology-and-education/titanic-grid' target=\"_blank\">https://wandb.ai/lhj5671-korea-university-of-technology-and-education/titanic-grid</a>"
      ],
      "text/plain": [
       "<IPython.core.display.HTML object>"
      ]
     },
     "metadata": {},
     "output_type": "display_data"
    },
    {
     "data": {
      "text/html": [
       " View run at <a href='https://wandb.ai/lhj5671-korea-university-of-technology-and-education/titanic-grid/runs/3mdt5jy2' target=\"_blank\">https://wandb.ai/lhj5671-korea-university-of-technology-and-education/titanic-grid/runs/3mdt5jy2</a>"
      ],
      "text/plain": [
       "<IPython.core.display.HTML object>"
      ]
     },
     "metadata": {},
     "output_type": "display_data"
    },
    {
     "data": {
      "text/html": [],
      "text/plain": [
       "<IPython.core.display.HTML object>"
      ]
     },
     "metadata": {},
     "output_type": "display_data"
    },
    {
     "data": {
      "text/html": [
       "<br>    <style><br>        .wandb-row {<br>            display: flex;<br>            flex-direction: row;<br>            flex-wrap: wrap;<br>            justify-content: flex-start;<br>            width: 100%;<br>        }<br>        .wandb-col {<br>            display: flex;<br>            flex-direction: column;<br>            flex-basis: 100%;<br>            flex: 1;<br>            padding: 10px;<br>        }<br>    </style><br><div class=\"wandb-row\"><div class=\"wandb-col\"><h3>Run history:</h3><br/><table class=\"wandb\"><tr><td>epoch</td><td>▁▁▁▁▂▂▂▂▂▂▃▃▃▃▃▄▄▄▄▄▄▅▅▅▅▆▆▆▆▆▆▇▇▇▇▇▇███</td></tr><tr><td>train/acc</td><td>▁▃▃▄▄▅▇▇▇▇▇▇▇█▇▇▇▇█▇▇▇▇▇███▇▇▇██▇█▇██▇█▇</td></tr><tr><td>train/loss</td><td>█▆▆▆▅▃▃▂▂▃▂▁▂▂▂▁▂▁▂▂▂▂▂▁▂▁▁▂▂▁▁▁▂▁▁▁▁▂▁▁</td></tr><tr><td>val/acc</td><td>▂▁▁▂▂▆███▇▇█▆▇▆▇▇▅▇██▆▇▇▆▆▇▇▆▇▇▇▇▇█▇██▇▆</td></tr><tr><td>val/loss</td><td>███▇▇▅▃▃▂▂▂▁▂▂▂▂▁▂▁▁▂▁▂▂▁▁▁▁▂▁▂▁▁▁▁▁▁▁▁▂</td></tr></table><br/></div><div class=\"wandb-col\"><h3>Run summary:</h3><br/><table class=\"wandb\"><tr><td>epoch</td><td>50</td></tr><tr><td>train/acc</td><td>0.79243</td></tr><tr><td>train/loss</td><td>0.44182</td></tr><tr><td>val/acc</td><td>0.83146</td></tr><tr><td>val/loss</td><td>0.42515</td></tr></table><br/></div></div>"
      ],
      "text/plain": [
       "<IPython.core.display.HTML object>"
      ]
     },
     "metadata": {},
     "output_type": "display_data"
    },
    {
     "data": {
      "text/html": [
       " View run <strong style=\"color:#cdcd00\">act=sigmoid|bs=32</strong> at: <a href='https://wandb.ai/lhj5671-korea-university-of-technology-and-education/titanic-grid/runs/3mdt5jy2' target=\"_blank\">https://wandb.ai/lhj5671-korea-university-of-technology-and-education/titanic-grid/runs/3mdt5jy2</a><br> View project at: <a href='https://wandb.ai/lhj5671-korea-university-of-technology-and-education/titanic-grid' target=\"_blank\">https://wandb.ai/lhj5671-korea-university-of-technology-and-education/titanic-grid</a><br>Synced 5 W&B file(s), 0 media file(s), 0 artifact file(s) and 0 other file(s)"
      ],
      "text/plain": [
       "<IPython.core.display.HTML object>"
      ]
     },
     "metadata": {},
     "output_type": "display_data"
    },
    {
     "data": {
      "text/html": [
       "Find logs at: <code>.\\wandb\\run-20251014_140248-3mdt5jy2\\logs</code>"
      ],
      "text/plain": [
       "<IPython.core.display.HTML object>"
      ]
     },
     "metadata": {},
     "output_type": "display_data"
    },
    {
     "name": "stdout",
     "output_type": "stream",
     "text": [
      "▶ run: activation=sigmoid, batch_size=64\n"
     ]
    },
    {
     "data": {
      "text/html": [],
      "text/plain": [
       "<IPython.core.display.HTML object>"
      ]
     },
     "metadata": {},
     "output_type": "display_data"
    },
    {
     "data": {
      "text/html": [
       "Tracking run with wandb version 0.22.1"
      ],
      "text/plain": [
       "<IPython.core.display.HTML object>"
      ]
     },
     "metadata": {},
     "output_type": "display_data"
    },
    {
     "data": {
      "text/html": [
       "Run data is saved locally in <code>c:\\Users\\lhj\\git\\link_dl\\_04_your_code\\wandb\\run-20251014_140256-qykv6xrr</code>"
      ],
      "text/plain": [
       "<IPython.core.display.HTML object>"
      ]
     },
     "metadata": {},
     "output_type": "display_data"
    },
    {
     "data": {
      "text/html": [
       "Syncing run <strong><a href='https://wandb.ai/lhj5671-korea-university-of-technology-and-education/titanic-grid/runs/qykv6xrr' target=\"_blank\">act=sigmoid|bs=64</a></strong> to <a href='https://wandb.ai/lhj5671-korea-university-of-technology-and-education/titanic-grid' target=\"_blank\">Weights & Biases</a> (<a href='https://wandb.me/developer-guide' target=\"_blank\">docs</a>)<br>"
      ],
      "text/plain": [
       "<IPython.core.display.HTML object>"
      ]
     },
     "metadata": {},
     "output_type": "display_data"
    },
    {
     "data": {
      "text/html": [
       " View project at <a href='https://wandb.ai/lhj5671-korea-university-of-technology-and-education/titanic-grid' target=\"_blank\">https://wandb.ai/lhj5671-korea-university-of-technology-and-education/titanic-grid</a>"
      ],
      "text/plain": [
       "<IPython.core.display.HTML object>"
      ]
     },
     "metadata": {},
     "output_type": "display_data"
    },
    {
     "data": {
      "text/html": [
       " View run at <a href='https://wandb.ai/lhj5671-korea-university-of-technology-and-education/titanic-grid/runs/qykv6xrr' target=\"_blank\">https://wandb.ai/lhj5671-korea-university-of-technology-and-education/titanic-grid/runs/qykv6xrr</a>"
      ],
      "text/plain": [
       "<IPython.core.display.HTML object>"
      ]
     },
     "metadata": {},
     "output_type": "display_data"
    },
    {
     "data": {
      "text/html": [],
      "text/plain": [
       "<IPython.core.display.HTML object>"
      ]
     },
     "metadata": {},
     "output_type": "display_data"
    },
    {
     "data": {
      "text/html": [
       "<br>    <style><br>        .wandb-row {<br>            display: flex;<br>            flex-direction: row;<br>            flex-wrap: wrap;<br>            justify-content: flex-start;<br>            width: 100%;<br>        }<br>        .wandb-col {<br>            display: flex;<br>            flex-direction: column;<br>            flex-basis: 100%;<br>            flex: 1;<br>            padding: 10px;<br>        }<br>    </style><br><div class=\"wandb-row\"><div class=\"wandb-col\"><h3>Run history:</h3><br/><table class=\"wandb\"><tr><td>epoch</td><td>▁▁▁▁▂▂▂▂▂▃▃▃▃▃▃▄▄▄▄▄▅▅▅▅▅▆▆▆▆▆▆▇▇▇▇▇▇███</td></tr><tr><td>train/acc</td><td>▁▅▅▅▅▅▅▆▇▆▇▇██▇▇██▇████▇█▇█████▇██▇█████</td></tr><tr><td>train/loss</td><td>█▆▆▅▅▄▄▄▃▃▂▂▂▂▂▁▂▂▂▁▂▂▂▁▁▂▁▁▁▁▁▁▁▁▂▁▁▁▁▁</td></tr><tr><td>val/acc</td><td>▂▂▂▁▁▂▂▃▆▆▇▆▇▇▇▆█▇█▇▆▆█▇▆█▇▇▆▇▇▆█▇▇▆▆█▆▇</td></tr><tr><td>val/loss</td><td>█▇▆▇▇▆▆▅▅▄▃▃▂▂▂▂▁▂▂▁▂▂▂▁▁▁▁▁▂▂▁▂▁▁▁▂▂▁▂▁</td></tr></table><br/></div><div class=\"wandb-col\"><h3>Run summary:</h3><br/><table class=\"wandb\"><tr><td>epoch</td><td>50</td></tr><tr><td>train/acc</td><td>0.79102</td></tr><tr><td>train/loss</td><td>0.45186</td></tr><tr><td>val/acc</td><td>0.84831</td></tr><tr><td>val/loss</td><td>0.38164</td></tr></table><br/></div></div>"
      ],
      "text/plain": [
       "<IPython.core.display.HTML object>"
      ]
     },
     "metadata": {},
     "output_type": "display_data"
    },
    {
     "data": {
      "text/html": [
       " View run <strong style=\"color:#cdcd00\">act=sigmoid|bs=64</strong> at: <a href='https://wandb.ai/lhj5671-korea-university-of-technology-and-education/titanic-grid/runs/qykv6xrr' target=\"_blank\">https://wandb.ai/lhj5671-korea-university-of-technology-and-education/titanic-grid/runs/qykv6xrr</a><br> View project at: <a href='https://wandb.ai/lhj5671-korea-university-of-technology-and-education/titanic-grid' target=\"_blank\">https://wandb.ai/lhj5671-korea-university-of-technology-and-education/titanic-grid</a><br>Synced 5 W&B file(s), 0 media file(s), 0 artifact file(s) and 0 other file(s)"
      ],
      "text/plain": [
       "<IPython.core.display.HTML object>"
      ]
     },
     "metadata": {},
     "output_type": "display_data"
    },
    {
     "data": {
      "text/html": [
       "Find logs at: <code>.\\wandb\\run-20251014_140256-qykv6xrr\\logs</code>"
      ],
      "text/plain": [
       "<IPython.core.display.HTML object>"
      ]
     },
     "metadata": {},
     "output_type": "display_data"
    },
    {
     "name": "stdout",
     "output_type": "stream",
     "text": [
      "▶ run: activation=sigmoid, batch_size=128\n"
     ]
    },
    {
     "data": {
      "text/html": [],
      "text/plain": [
       "<IPython.core.display.HTML object>"
      ]
     },
     "metadata": {},
     "output_type": "display_data"
    },
    {
     "data": {
      "text/html": [
       "Tracking run with wandb version 0.22.1"
      ],
      "text/plain": [
       "<IPython.core.display.HTML object>"
      ]
     },
     "metadata": {},
     "output_type": "display_data"
    },
    {
     "data": {
      "text/html": [
       "Run data is saved locally in <code>c:\\Users\\lhj\\git\\link_dl\\_04_your_code\\wandb\\run-20251014_140302-lcwgfww0</code>"
      ],
      "text/plain": [
       "<IPython.core.display.HTML object>"
      ]
     },
     "metadata": {},
     "output_type": "display_data"
    },
    {
     "data": {
      "text/html": [
       "Syncing run <strong><a href='https://wandb.ai/lhj5671-korea-university-of-technology-and-education/titanic-grid/runs/lcwgfww0' target=\"_blank\">act=sigmoid|bs=128</a></strong> to <a href='https://wandb.ai/lhj5671-korea-university-of-technology-and-education/titanic-grid' target=\"_blank\">Weights & Biases</a> (<a href='https://wandb.me/developer-guide' target=\"_blank\">docs</a>)<br>"
      ],
      "text/plain": [
       "<IPython.core.display.HTML object>"
      ]
     },
     "metadata": {},
     "output_type": "display_data"
    },
    {
     "data": {
      "text/html": [
       " View project at <a href='https://wandb.ai/lhj5671-korea-university-of-technology-and-education/titanic-grid' target=\"_blank\">https://wandb.ai/lhj5671-korea-university-of-technology-and-education/titanic-grid</a>"
      ],
      "text/plain": [
       "<IPython.core.display.HTML object>"
      ]
     },
     "metadata": {},
     "output_type": "display_data"
    },
    {
     "data": {
      "text/html": [
       " View run at <a href='https://wandb.ai/lhj5671-korea-university-of-technology-and-education/titanic-grid/runs/lcwgfww0' target=\"_blank\">https://wandb.ai/lhj5671-korea-university-of-technology-and-education/titanic-grid/runs/lcwgfww0</a>"
      ],
      "text/plain": [
       "<IPython.core.display.HTML object>"
      ]
     },
     "metadata": {},
     "output_type": "display_data"
    },
    {
     "data": {
      "text/html": [],
      "text/plain": [
       "<IPython.core.display.HTML object>"
      ]
     },
     "metadata": {},
     "output_type": "display_data"
    },
    {
     "data": {
      "text/html": [
       "<br>    <style><br>        .wandb-row {<br>            display: flex;<br>            flex-direction: row;<br>            flex-wrap: wrap;<br>            justify-content: flex-start;<br>            width: 100%;<br>        }<br>        .wandb-col {<br>            display: flex;<br>            flex-direction: column;<br>            flex-basis: 100%;<br>            flex: 1;<br>            padding: 10px;<br>        }<br>    </style><br><div class=\"wandb-row\"><div class=\"wandb-col\"><h3>Run history:</h3><br/><table class=\"wandb\"><tr><td>epoch</td><td>▁▁▁▁▂▂▂▂▂▂▃▃▃▃▃▄▄▄▄▄▅▅▅▅▅▆▆▆▆▆▆▇▇▇▇▇▇███</td></tr><tr><td>train/acc</td><td>▁▆▆▅▆▆▆▆▆▆▆▆▇▇▇▇████████████████████████</td></tr><tr><td>train/loss</td><td>█▆▅▅▅▅▅▅▄▄▄▄▃▃▃▂▂▂▂▂▂▂▁▁▁▁▁▁▁▁▁▁▁▁▁▁▁▁▁▁</td></tr><tr><td>val/acc</td><td>▁▆▆▆▆▆▆▆▆▆▆▆▆▆▇▇▇▇████████▇██▇▇▇████████</td></tr><tr><td>val/loss</td><td>█▇▆▆▆▆▆▆▆▆▆▅▅▅▄▄▃▃▂▂▂▁▂▂▁▂▁▁▁▁▂▂▁▁▁▁▁▁▁▁</td></tr></table><br/></div><div class=\"wandb-col\"><h3>Run summary:</h3><br/><table class=\"wandb\"><tr><td>epoch</td><td>50</td></tr><tr><td>train/acc</td><td>0.80084</td></tr><tr><td>train/loss</td><td>0.44639</td></tr><tr><td>val/acc</td><td>0.8764</td></tr><tr><td>val/loss</td><td>0.37103</td></tr></table><br/></div></div>"
      ],
      "text/plain": [
       "<IPython.core.display.HTML object>"
      ]
     },
     "metadata": {},
     "output_type": "display_data"
    },
    {
     "data": {
      "text/html": [
       " View run <strong style=\"color:#cdcd00\">act=sigmoid|bs=128</strong> at: <a href='https://wandb.ai/lhj5671-korea-university-of-technology-and-education/titanic-grid/runs/lcwgfww0' target=\"_blank\">https://wandb.ai/lhj5671-korea-university-of-technology-and-education/titanic-grid/runs/lcwgfww0</a><br> View project at: <a href='https://wandb.ai/lhj5671-korea-university-of-technology-and-education/titanic-grid' target=\"_blank\">https://wandb.ai/lhj5671-korea-university-of-technology-and-education/titanic-grid</a><br>Synced 5 W&B file(s), 0 media file(s), 0 artifact file(s) and 0 other file(s)"
      ],
      "text/plain": [
       "<IPython.core.display.HTML object>"
      ]
     },
     "metadata": {},
     "output_type": "display_data"
    },
    {
     "data": {
      "text/html": [
       "Find logs at: <code>.\\wandb\\run-20251014_140302-lcwgfww0\\logs</code>"
      ],
      "text/plain": [
       "<IPython.core.display.HTML object>"
      ]
     },
     "metadata": {},
     "output_type": "display_data"
    },
    {
     "name": "stdout",
     "output_type": "stream",
     "text": [
      "▶ run: activation=relu, batch_size=16\n"
     ]
    },
    {
     "data": {
      "text/html": [],
      "text/plain": [
       "<IPython.core.display.HTML object>"
      ]
     },
     "metadata": {},
     "output_type": "display_data"
    },
    {
     "data": {
      "text/html": [
       "Tracking run with wandb version 0.22.1"
      ],
      "text/plain": [
       "<IPython.core.display.HTML object>"
      ]
     },
     "metadata": {},
     "output_type": "display_data"
    },
    {
     "data": {
      "text/html": [
       "Run data is saved locally in <code>c:\\Users\\lhj\\git\\link_dl\\_04_your_code\\wandb\\run-20251014_140307-qwtxu5ky</code>"
      ],
      "text/plain": [
       "<IPython.core.display.HTML object>"
      ]
     },
     "metadata": {},
     "output_type": "display_data"
    },
    {
     "data": {
      "text/html": [
       "Syncing run <strong><a href='https://wandb.ai/lhj5671-korea-university-of-technology-and-education/titanic-grid/runs/qwtxu5ky' target=\"_blank\">act=relu|bs=16</a></strong> to <a href='https://wandb.ai/lhj5671-korea-university-of-technology-and-education/titanic-grid' target=\"_blank\">Weights & Biases</a> (<a href='https://wandb.me/developer-guide' target=\"_blank\">docs</a>)<br>"
      ],
      "text/plain": [
       "<IPython.core.display.HTML object>"
      ]
     },
     "metadata": {},
     "output_type": "display_data"
    },
    {
     "data": {
      "text/html": [
       " View project at <a href='https://wandb.ai/lhj5671-korea-university-of-technology-and-education/titanic-grid' target=\"_blank\">https://wandb.ai/lhj5671-korea-university-of-technology-and-education/titanic-grid</a>"
      ],
      "text/plain": [
       "<IPython.core.display.HTML object>"
      ]
     },
     "metadata": {},
     "output_type": "display_data"
    },
    {
     "data": {
      "text/html": [
       " View run at <a href='https://wandb.ai/lhj5671-korea-university-of-technology-and-education/titanic-grid/runs/qwtxu5ky' target=\"_blank\">https://wandb.ai/lhj5671-korea-university-of-technology-and-education/titanic-grid/runs/qwtxu5ky</a>"
      ],
      "text/plain": [
       "<IPython.core.display.HTML object>"
      ]
     },
     "metadata": {},
     "output_type": "display_data"
    },
    {
     "data": {
      "text/html": [],
      "text/plain": [
       "<IPython.core.display.HTML object>"
      ]
     },
     "metadata": {},
     "output_type": "display_data"
    },
    {
     "data": {
      "text/html": [
       "<br>    <style><br>        .wandb-row {<br>            display: flex;<br>            flex-direction: row;<br>            flex-wrap: wrap;<br>            justify-content: flex-start;<br>            width: 100%;<br>        }<br>        .wandb-col {<br>            display: flex;<br>            flex-direction: column;<br>            flex-basis: 100%;<br>            flex: 1;<br>            padding: 10px;<br>        }<br>    </style><br><div class=\"wandb-row\"><div class=\"wandb-col\"><h3>Run history:</h3><br/><table class=\"wandb\"><tr><td>epoch</td><td>▁▁▁▁▂▂▂▂▂▂▃▃▃▃▃▄▄▄▄▄▅▅▅▅▅▆▆▆▆▆▆▇▇▇▇▇▇███</td></tr><tr><td>train/acc</td><td>▁▃▄▅▅▆▆▇▇▆▆██▇█▇█▇▇▇███▇▇█▇███▇▇██▇▇█▇▇█</td></tr><tr><td>train/loss</td><td>█▆▆▆▅▄▃▃▃▂▃▂▂▂▂▂▂▁▂▂▂▂▂▂▂▂▁▂▁▁▁▂▁▂▁▂▁▁▂▁</td></tr><tr><td>val/acc</td><td>▁▂▂▃▅▆▇▇▇████▆▆██▇▇▇██▆▇█▇▇▇▇▇▇▇█▇▇▅▇▇▇▆</td></tr><tr><td>val/loss</td><td>█▇▇▆▅▄▂▂▂▂▁▁▂▂▂▁▂▂▁▂▁▂▂▁▂▂▁▂▂▂▂▁▂▂▁▂▂▁▁▃</td></tr></table><br/></div><div class=\"wandb-col\"><h3>Run summary:</h3><br/><table class=\"wandb\"><tr><td>epoch</td><td>50</td></tr><tr><td>train/acc</td><td>0.81487</td></tr><tr><td>train/loss</td><td>0.40352</td></tr><tr><td>val/acc</td><td>0.82022</td></tr><tr><td>val/loss</td><td>0.43134</td></tr></table><br/></div></div>"
      ],
      "text/plain": [
       "<IPython.core.display.HTML object>"
      ]
     },
     "metadata": {},
     "output_type": "display_data"
    },
    {
     "data": {
      "text/html": [
       " View run <strong style=\"color:#cdcd00\">act=relu|bs=16</strong> at: <a href='https://wandb.ai/lhj5671-korea-university-of-technology-and-education/titanic-grid/runs/qwtxu5ky' target=\"_blank\">https://wandb.ai/lhj5671-korea-university-of-technology-and-education/titanic-grid/runs/qwtxu5ky</a><br> View project at: <a href='https://wandb.ai/lhj5671-korea-university-of-technology-and-education/titanic-grid' target=\"_blank\">https://wandb.ai/lhj5671-korea-university-of-technology-and-education/titanic-grid</a><br>Synced 5 W&B file(s), 0 media file(s), 0 artifact file(s) and 0 other file(s)"
      ],
      "text/plain": [
       "<IPython.core.display.HTML object>"
      ]
     },
     "metadata": {},
     "output_type": "display_data"
    },
    {
     "data": {
      "text/html": [
       "Find logs at: <code>.\\wandb\\run-20251014_140307-qwtxu5ky\\logs</code>"
      ],
      "text/plain": [
       "<IPython.core.display.HTML object>"
      ]
     },
     "metadata": {},
     "output_type": "display_data"
    },
    {
     "name": "stdout",
     "output_type": "stream",
     "text": [
      "▶ run: activation=relu, batch_size=32\n"
     ]
    },
    {
     "data": {
      "text/html": [],
      "text/plain": [
       "<IPython.core.display.HTML object>"
      ]
     },
     "metadata": {},
     "output_type": "display_data"
    },
    {
     "data": {
      "text/html": [
       "Tracking run with wandb version 0.22.1"
      ],
      "text/plain": [
       "<IPython.core.display.HTML object>"
      ]
     },
     "metadata": {},
     "output_type": "display_data"
    },
    {
     "data": {
      "text/html": [
       "Run data is saved locally in <code>c:\\Users\\lhj\\git\\link_dl\\_04_your_code\\wandb\\run-20251014_140319-aikw50ki</code>"
      ],
      "text/plain": [
       "<IPython.core.display.HTML object>"
      ]
     },
     "metadata": {},
     "output_type": "display_data"
    },
    {
     "data": {
      "text/html": [
       "Syncing run <strong><a href='https://wandb.ai/lhj5671-korea-university-of-technology-and-education/titanic-grid/runs/aikw50ki' target=\"_blank\">act=relu|bs=32</a></strong> to <a href='https://wandb.ai/lhj5671-korea-university-of-technology-and-education/titanic-grid' target=\"_blank\">Weights & Biases</a> (<a href='https://wandb.me/developer-guide' target=\"_blank\">docs</a>)<br>"
      ],
      "text/plain": [
       "<IPython.core.display.HTML object>"
      ]
     },
     "metadata": {},
     "output_type": "display_data"
    },
    {
     "data": {
      "text/html": [
       " View project at <a href='https://wandb.ai/lhj5671-korea-university-of-technology-and-education/titanic-grid' target=\"_blank\">https://wandb.ai/lhj5671-korea-university-of-technology-and-education/titanic-grid</a>"
      ],
      "text/plain": [
       "<IPython.core.display.HTML object>"
      ]
     },
     "metadata": {},
     "output_type": "display_data"
    },
    {
     "data": {
      "text/html": [
       " View run at <a href='https://wandb.ai/lhj5671-korea-university-of-technology-and-education/titanic-grid/runs/aikw50ki' target=\"_blank\">https://wandb.ai/lhj5671-korea-university-of-technology-and-education/titanic-grid/runs/aikw50ki</a>"
      ],
      "text/plain": [
       "<IPython.core.display.HTML object>"
      ]
     },
     "metadata": {},
     "output_type": "display_data"
    },
    {
     "data": {
      "text/html": [],
      "text/plain": [
       "<IPython.core.display.HTML object>"
      ]
     },
     "metadata": {},
     "output_type": "display_data"
    },
    {
     "data": {
      "text/html": [
       "<br>    <style><br>        .wandb-row {<br>            display: flex;<br>            flex-direction: row;<br>            flex-wrap: wrap;<br>            justify-content: flex-start;<br>            width: 100%;<br>        }<br>        .wandb-col {<br>            display: flex;<br>            flex-direction: column;<br>            flex-basis: 100%;<br>            flex: 1;<br>            padding: 10px;<br>        }<br>    </style><br><div class=\"wandb-row\"><div class=\"wandb-col\"><h3>Run history:</h3><br/><table class=\"wandb\"><tr><td>epoch</td><td>▁▁▁▂▂▂▂▂▂▃▃▃▃▃▃▄▄▄▄▄▅▅▅▅▅▅▆▆▆▆▆▇▇▇▇▇▇███</td></tr><tr><td>train/acc</td><td>▁▄▄▅▆▇▇▇▇▇█▇▇▇█▇█▇▇████▇█▇▇▇███▇████▇███</td></tr><tr><td>train/loss</td><td>█▆▆▅▅▄▄▃▄▃▃▃▂▂▂▂▂▁▂▂▂▂▂▁▂▁▂▂▁▂▁▂▁▂▂▂▂▁▁▁</td></tr><tr><td>val/acc</td><td>▁▁▂▃▄▅▅▆▆▆▇█▇▆█▇▆▇▇▇▇▆▇█▇▇▇▆▇▇▆▆▇▇▇▇▇▇▇▆</td></tr><tr><td>val/loss</td><td>█▇▆▆▅▅▄▄▃▃▂▁▁▃▂▂▁▂▁▂▂▁▁▁▁▁▂▂▁▁▂▁▂▁▁▁▁▁▂▃</td></tr></table><br/></div><div class=\"wandb-col\"><h3>Run summary:</h3><br/><table class=\"wandb\"><tr><td>epoch</td><td>50</td></tr><tr><td>train/acc</td><td>0.82468</td></tr><tr><td>train/loss</td><td>0.39225</td></tr><tr><td>val/acc</td><td>0.80899</td></tr><tr><td>val/loss</td><td>0.45239</td></tr></table><br/></div></div>"
      ],
      "text/plain": [
       "<IPython.core.display.HTML object>"
      ]
     },
     "metadata": {},
     "output_type": "display_data"
    },
    {
     "data": {
      "text/html": [
       " View run <strong style=\"color:#cdcd00\">act=relu|bs=32</strong> at: <a href='https://wandb.ai/lhj5671-korea-university-of-technology-and-education/titanic-grid/runs/aikw50ki' target=\"_blank\">https://wandb.ai/lhj5671-korea-university-of-technology-and-education/titanic-grid/runs/aikw50ki</a><br> View project at: <a href='https://wandb.ai/lhj5671-korea-university-of-technology-and-education/titanic-grid' target=\"_blank\">https://wandb.ai/lhj5671-korea-university-of-technology-and-education/titanic-grid</a><br>Synced 5 W&B file(s), 0 media file(s), 0 artifact file(s) and 0 other file(s)"
      ],
      "text/plain": [
       "<IPython.core.display.HTML object>"
      ]
     },
     "metadata": {},
     "output_type": "display_data"
    },
    {
     "data": {
      "text/html": [
       "Find logs at: <code>.\\wandb\\run-20251014_140319-aikw50ki\\logs</code>"
      ],
      "text/plain": [
       "<IPython.core.display.HTML object>"
      ]
     },
     "metadata": {},
     "output_type": "display_data"
    },
    {
     "name": "stdout",
     "output_type": "stream",
     "text": [
      "▶ run: activation=relu, batch_size=64\n"
     ]
    },
    {
     "data": {
      "text/html": [],
      "text/plain": [
       "<IPython.core.display.HTML object>"
      ]
     },
     "metadata": {},
     "output_type": "display_data"
    },
    {
     "data": {
      "text/html": [
       "Tracking run with wandb version 0.22.1"
      ],
      "text/plain": [
       "<IPython.core.display.HTML object>"
      ]
     },
     "metadata": {},
     "output_type": "display_data"
    },
    {
     "data": {
      "text/html": [
       "Run data is saved locally in <code>c:\\Users\\lhj\\git\\link_dl\\_04_your_code\\wandb\\run-20251014_140327-owe4v8ib</code>"
      ],
      "text/plain": [
       "<IPython.core.display.HTML object>"
      ]
     },
     "metadata": {},
     "output_type": "display_data"
    },
    {
     "data": {
      "text/html": [
       "Syncing run <strong><a href='https://wandb.ai/lhj5671-korea-university-of-technology-and-education/titanic-grid/runs/owe4v8ib' target=\"_blank\">act=relu|bs=64</a></strong> to <a href='https://wandb.ai/lhj5671-korea-university-of-technology-and-education/titanic-grid' target=\"_blank\">Weights & Biases</a> (<a href='https://wandb.me/developer-guide' target=\"_blank\">docs</a>)<br>"
      ],
      "text/plain": [
       "<IPython.core.display.HTML object>"
      ]
     },
     "metadata": {},
     "output_type": "display_data"
    },
    {
     "data": {
      "text/html": [
       " View project at <a href='https://wandb.ai/lhj5671-korea-university-of-technology-and-education/titanic-grid' target=\"_blank\">https://wandb.ai/lhj5671-korea-university-of-technology-and-education/titanic-grid</a>"
      ],
      "text/plain": [
       "<IPython.core.display.HTML object>"
      ]
     },
     "metadata": {},
     "output_type": "display_data"
    },
    {
     "data": {
      "text/html": [
       " View run at <a href='https://wandb.ai/lhj5671-korea-university-of-technology-and-education/titanic-grid/runs/owe4v8ib' target=\"_blank\">https://wandb.ai/lhj5671-korea-university-of-technology-and-education/titanic-grid/runs/owe4v8ib</a>"
      ],
      "text/plain": [
       "<IPython.core.display.HTML object>"
      ]
     },
     "metadata": {},
     "output_type": "display_data"
    },
    {
     "data": {
      "text/html": [],
      "text/plain": [
       "<IPython.core.display.HTML object>"
      ]
     },
     "metadata": {},
     "output_type": "display_data"
    },
    {
     "data": {
      "text/html": [
       "<br>    <style><br>        .wandb-row {<br>            display: flex;<br>            flex-direction: row;<br>            flex-wrap: wrap;<br>            justify-content: flex-start;<br>            width: 100%;<br>        }<br>        .wandb-col {<br>            display: flex;<br>            flex-direction: column;<br>            flex-basis: 100%;<br>            flex: 1;<br>            padding: 10px;<br>        }<br>    </style><br><div class=\"wandb-row\"><div class=\"wandb-col\"><h3>Run history:</h3><br/><table class=\"wandb\"><tr><td>epoch</td><td>▁▁▁▂▂▂▂▂▂▃▃▃▃▃▃▄▄▄▄▄▅▅▅▅▅▆▆▆▆▆▆▇▇▇▇▇▇███</td></tr><tr><td>train/acc</td><td>▁▅▅▅▅▅▆▆▆▆▇▇▇▇▇▇▇▇▇▇▇▇▇▇█▇▇▇▇▇▇████▇██▇█</td></tr><tr><td>train/loss</td><td>█▆▆▅▅▅▄▄▄▄▃▃▃▂▂▂▂▂▂▂▂▂▁▂▂▂▂▁▁▂▁▁▁▁▁▂▁▁▁▁</td></tr><tr><td>val/acc</td><td>▁▁▁▂▃▄▄▅▅▅▆▆▅▆▇▆▆██▇▇▆█▇▇▇█▇▇▇▇▇██▇█▆▇▇█</td></tr><tr><td>val/loss</td><td>█▇▆▆▆▅▅▅▄▄▄▄▃▃▃▃▂▁▁▁▂▁▂▁▃▁▁▂▁▁▂▂▁▁▂▁▁▁▁▁</td></tr></table><br/></div><div class=\"wandb-col\"><h3>Run summary:</h3><br/><table class=\"wandb\"><tr><td>epoch</td><td>50</td></tr><tr><td>train/acc</td><td>0.8317</td></tr><tr><td>train/loss</td><td>0.38434</td></tr><tr><td>val/acc</td><td>0.85955</td></tr><tr><td>val/loss</td><td>0.38822</td></tr></table><br/></div></div>"
      ],
      "text/plain": [
       "<IPython.core.display.HTML object>"
      ]
     },
     "metadata": {},
     "output_type": "display_data"
    },
    {
     "data": {
      "text/html": [
       " View run <strong style=\"color:#cdcd00\">act=relu|bs=64</strong> at: <a href='https://wandb.ai/lhj5671-korea-university-of-technology-and-education/titanic-grid/runs/owe4v8ib' target=\"_blank\">https://wandb.ai/lhj5671-korea-university-of-technology-and-education/titanic-grid/runs/owe4v8ib</a><br> View project at: <a href='https://wandb.ai/lhj5671-korea-university-of-technology-and-education/titanic-grid' target=\"_blank\">https://wandb.ai/lhj5671-korea-university-of-technology-and-education/titanic-grid</a><br>Synced 5 W&B file(s), 0 media file(s), 0 artifact file(s) and 0 other file(s)"
      ],
      "text/plain": [
       "<IPython.core.display.HTML object>"
      ]
     },
     "metadata": {},
     "output_type": "display_data"
    },
    {
     "data": {
      "text/html": [
       "Find logs at: <code>.\\wandb\\run-20251014_140327-owe4v8ib\\logs</code>"
      ],
      "text/plain": [
       "<IPython.core.display.HTML object>"
      ]
     },
     "metadata": {},
     "output_type": "display_data"
    },
    {
     "name": "stdout",
     "output_type": "stream",
     "text": [
      "▶ run: activation=relu, batch_size=128\n"
     ]
    },
    {
     "data": {
      "text/html": [],
      "text/plain": [
       "<IPython.core.display.HTML object>"
      ]
     },
     "metadata": {},
     "output_type": "display_data"
    },
    {
     "data": {
      "text/html": [
       "Tracking run with wandb version 0.22.1"
      ],
      "text/plain": [
       "<IPython.core.display.HTML object>"
      ]
     },
     "metadata": {},
     "output_type": "display_data"
    },
    {
     "data": {
      "text/html": [
       "Run data is saved locally in <code>c:\\Users\\lhj\\git\\link_dl\\_04_your_code\\wandb\\run-20251014_140333-hogxe3by</code>"
      ],
      "text/plain": [
       "<IPython.core.display.HTML object>"
      ]
     },
     "metadata": {},
     "output_type": "display_data"
    },
    {
     "data": {
      "text/html": [
       "Syncing run <strong><a href='https://wandb.ai/lhj5671-korea-university-of-technology-and-education/titanic-grid/runs/hogxe3by' target=\"_blank\">act=relu|bs=128</a></strong> to <a href='https://wandb.ai/lhj5671-korea-university-of-technology-and-education/titanic-grid' target=\"_blank\">Weights & Biases</a> (<a href='https://wandb.me/developer-guide' target=\"_blank\">docs</a>)<br>"
      ],
      "text/plain": [
       "<IPython.core.display.HTML object>"
      ]
     },
     "metadata": {},
     "output_type": "display_data"
    },
    {
     "data": {
      "text/html": [
       " View project at <a href='https://wandb.ai/lhj5671-korea-university-of-technology-and-education/titanic-grid' target=\"_blank\">https://wandb.ai/lhj5671-korea-university-of-technology-and-education/titanic-grid</a>"
      ],
      "text/plain": [
       "<IPython.core.display.HTML object>"
      ]
     },
     "metadata": {},
     "output_type": "display_data"
    },
    {
     "data": {
      "text/html": [
       " View run at <a href='https://wandb.ai/lhj5671-korea-university-of-technology-and-education/titanic-grid/runs/hogxe3by' target=\"_blank\">https://wandb.ai/lhj5671-korea-university-of-technology-and-education/titanic-grid/runs/hogxe3by</a>"
      ],
      "text/plain": [
       "<IPython.core.display.HTML object>"
      ]
     },
     "metadata": {},
     "output_type": "display_data"
    },
    {
     "data": {
      "text/html": [],
      "text/plain": [
       "<IPython.core.display.HTML object>"
      ]
     },
     "metadata": {},
     "output_type": "display_data"
    },
    {
     "data": {
      "text/html": [
       "<br>    <style><br>        .wandb-row {<br>            display: flex;<br>            flex-direction: row;<br>            flex-wrap: wrap;<br>            justify-content: flex-start;<br>            width: 100%;<br>        }<br>        .wandb-col {<br>            display: flex;<br>            flex-direction: column;<br>            flex-basis: 100%;<br>            flex: 1;<br>            padding: 10px;<br>        }<br>    </style><br><div class=\"wandb-row\"><div class=\"wandb-col\"><h3>Run history:</h3><br/><table class=\"wandb\"><tr><td>epoch</td><td>▁▁▁▁▂▂▂▂▂▂▃▃▃▃▃▄▄▄▄▄▄▅▅▅▅▅▅▆▆▆▆▆▇▇▇▇▇███</td></tr><tr><td>train/acc</td><td>▁▄▅▅▅▆▆▆▆▆▇▇▇▇▇▇▇▇▇▇▇█▇▇█▇█▇████████████</td></tr><tr><td>train/loss</td><td>█▆▆▅▅▅▅▅▄▄▄▄▄▄▃▃▃▃▃▃▂▂▂▂▂▂▂▂▂▂▁▁▁▁▁▁▁▁▁▁</td></tr><tr><td>val/acc</td><td>▁▁▁▁▁▂▂▂▃▃▄▅▅▅▅▆▆▆▆▆▆▆▇▇▇▇▇▆▇▇█▇██▇██▇█▇</td></tr><tr><td>val/loss</td><td>██▇▇▆▆▆▆▅▅▅▅▅▄▄▄▄▃▃▃▃▃▂▃▂▁▁▂▁▂▁▂▁▁▂▁▁▁▁▁</td></tr></table><br/></div><div class=\"wandb-col\"><h3>Run summary:</h3><br/><table class=\"wandb\"><tr><td>epoch</td><td>50</td></tr><tr><td>train/acc</td><td>0.83731</td></tr><tr><td>train/loss</td><td>0.38318</td></tr><tr><td>val/acc</td><td>0.84831</td></tr><tr><td>val/loss</td><td>0.38721</td></tr></table><br/></div></div>"
      ],
      "text/plain": [
       "<IPython.core.display.HTML object>"
      ]
     },
     "metadata": {},
     "output_type": "display_data"
    },
    {
     "data": {
      "text/html": [
       " View run <strong style=\"color:#cdcd00\">act=relu|bs=128</strong> at: <a href='https://wandb.ai/lhj5671-korea-university-of-technology-and-education/titanic-grid/runs/hogxe3by' target=\"_blank\">https://wandb.ai/lhj5671-korea-university-of-technology-and-education/titanic-grid/runs/hogxe3by</a><br> View project at: <a href='https://wandb.ai/lhj5671-korea-university-of-technology-and-education/titanic-grid' target=\"_blank\">https://wandb.ai/lhj5671-korea-university-of-technology-and-education/titanic-grid</a><br>Synced 5 W&B file(s), 0 media file(s), 0 artifact file(s) and 0 other file(s)"
      ],
      "text/plain": [
       "<IPython.core.display.HTML object>"
      ]
     },
     "metadata": {},
     "output_type": "display_data"
    },
    {
     "data": {
      "text/html": [
       "Find logs at: <code>.\\wandb\\run-20251014_140333-hogxe3by\\logs</code>"
      ],
      "text/plain": [
       "<IPython.core.display.HTML object>"
      ]
     },
     "metadata": {},
     "output_type": "display_data"
    },
    {
     "name": "stdout",
     "output_type": "stream",
     "text": [
      "▶ run: activation=elu, batch_size=16\n"
     ]
    },
    {
     "data": {
      "text/html": [],
      "text/plain": [
       "<IPython.core.display.HTML object>"
      ]
     },
     "metadata": {},
     "output_type": "display_data"
    },
    {
     "data": {
      "text/html": [
       "Tracking run with wandb version 0.22.1"
      ],
      "text/plain": [
       "<IPython.core.display.HTML object>"
      ]
     },
     "metadata": {},
     "output_type": "display_data"
    },
    {
     "data": {
      "text/html": [
       "Run data is saved locally in <code>c:\\Users\\lhj\\git\\link_dl\\_04_your_code\\wandb\\run-20251014_140339-ojeukx7a</code>"
      ],
      "text/plain": [
       "<IPython.core.display.HTML object>"
      ]
     },
     "metadata": {},
     "output_type": "display_data"
    },
    {
     "data": {
      "text/html": [
       "Syncing run <strong><a href='https://wandb.ai/lhj5671-korea-university-of-technology-and-education/titanic-grid/runs/ojeukx7a' target=\"_blank\">act=elu|bs=16</a></strong> to <a href='https://wandb.ai/lhj5671-korea-university-of-technology-and-education/titanic-grid' target=\"_blank\">Weights & Biases</a> (<a href='https://wandb.me/developer-guide' target=\"_blank\">docs</a>)<br>"
      ],
      "text/plain": [
       "<IPython.core.display.HTML object>"
      ]
     },
     "metadata": {},
     "output_type": "display_data"
    },
    {
     "data": {
      "text/html": [
       " View project at <a href='https://wandb.ai/lhj5671-korea-university-of-technology-and-education/titanic-grid' target=\"_blank\">https://wandb.ai/lhj5671-korea-university-of-technology-and-education/titanic-grid</a>"
      ],
      "text/plain": [
       "<IPython.core.display.HTML object>"
      ]
     },
     "metadata": {},
     "output_type": "display_data"
    },
    {
     "data": {
      "text/html": [
       " View run at <a href='https://wandb.ai/lhj5671-korea-university-of-technology-and-education/titanic-grid/runs/ojeukx7a' target=\"_blank\">https://wandb.ai/lhj5671-korea-university-of-technology-and-education/titanic-grid/runs/ojeukx7a</a>"
      ],
      "text/plain": [
       "<IPython.core.display.HTML object>"
      ]
     },
     "metadata": {},
     "output_type": "display_data"
    },
    {
     "data": {
      "text/html": [],
      "text/plain": [
       "<IPython.core.display.HTML object>"
      ]
     },
     "metadata": {},
     "output_type": "display_data"
    },
    {
     "data": {
      "text/html": [
       "<br>    <style><br>        .wandb-row {<br>            display: flex;<br>            flex-direction: row;<br>            flex-wrap: wrap;<br>            justify-content: flex-start;<br>            width: 100%;<br>        }<br>        .wandb-col {<br>            display: flex;<br>            flex-direction: column;<br>            flex-basis: 100%;<br>            flex: 1;<br>            padding: 10px;<br>        }<br>    </style><br><div class=\"wandb-row\"><div class=\"wandb-col\"><h3>Run history:</h3><br/><table class=\"wandb\"><tr><td>epoch</td><td>▁▁▁▁▂▂▂▂▂▃▃▃▃▃▃▄▄▄▄▄▅▅▅▅▅▆▆▆▆▆▆▇▇▇▇▇▇███</td></tr><tr><td>train/acc</td><td>▁▂▃▅▅▇▇▇▆▇▇▆██▇▇▇▇█▇▇▆▇██▇█▇▇▇▇▇▆██▇████</td></tr><tr><td>train/loss</td><td>█▇▆▅▄▃▂▂▂▃▃▁▂▂▂▂▂▁▂▁▂▂▁▁▂▁▁▂▁▂▁▁▁▂▁▂▁▁▂▁</td></tr><tr><td>val/acc</td><td>▁▁▂▄▇▇▇██▇██▇█▇█▇▆███▇█▇███▆▇█▇██▇█▇███▇</td></tr><tr><td>val/loss</td><td>█▇▆▄▃▂▂▂▁▂▁▁▂▂▂▁▁▂▁▁▁▁▂▁▂▁▁▂▂▂▂▂▁▁▁▂▁▁▁▂</td></tr></table><br/></div><div class=\"wandb-col\"><h3>Run summary:</h3><br/><table class=\"wandb\"><tr><td>epoch</td><td>50</td></tr><tr><td>train/acc</td><td>0.80645</td></tr><tr><td>train/loss</td><td>0.42353</td></tr><tr><td>val/acc</td><td>0.85955</td></tr><tr><td>val/loss</td><td>0.39466</td></tr></table><br/></div></div>"
      ],
      "text/plain": [
       "<IPython.core.display.HTML object>"
      ]
     },
     "metadata": {},
     "output_type": "display_data"
    },
    {
     "data": {
      "text/html": [
       " View run <strong style=\"color:#cdcd00\">act=elu|bs=16</strong> at: <a href='https://wandb.ai/lhj5671-korea-university-of-technology-and-education/titanic-grid/runs/ojeukx7a' target=\"_blank\">https://wandb.ai/lhj5671-korea-university-of-technology-and-education/titanic-grid/runs/ojeukx7a</a><br> View project at: <a href='https://wandb.ai/lhj5671-korea-university-of-technology-and-education/titanic-grid' target=\"_blank\">https://wandb.ai/lhj5671-korea-university-of-technology-and-education/titanic-grid</a><br>Synced 5 W&B file(s), 0 media file(s), 0 artifact file(s) and 0 other file(s)"
      ],
      "text/plain": [
       "<IPython.core.display.HTML object>"
      ]
     },
     "metadata": {},
     "output_type": "display_data"
    },
    {
     "data": {
      "text/html": [
       "Find logs at: <code>.\\wandb\\run-20251014_140339-ojeukx7a\\logs</code>"
      ],
      "text/plain": [
       "<IPython.core.display.HTML object>"
      ]
     },
     "metadata": {},
     "output_type": "display_data"
    },
    {
     "name": "stdout",
     "output_type": "stream",
     "text": [
      "▶ run: activation=elu, batch_size=32\n"
     ]
    },
    {
     "data": {
      "text/html": [],
      "text/plain": [
       "<IPython.core.display.HTML object>"
      ]
     },
     "metadata": {},
     "output_type": "display_data"
    },
    {
     "data": {
      "text/html": [
       "Tracking run with wandb version 0.22.1"
      ],
      "text/plain": [
       "<IPython.core.display.HTML object>"
      ]
     },
     "metadata": {},
     "output_type": "display_data"
    },
    {
     "data": {
      "text/html": [
       "Run data is saved locally in <code>c:\\Users\\lhj\\git\\link_dl\\_04_your_code\\wandb\\run-20251014_140351-b3zkrwig</code>"
      ],
      "text/plain": [
       "<IPython.core.display.HTML object>"
      ]
     },
     "metadata": {},
     "output_type": "display_data"
    },
    {
     "data": {
      "text/html": [
       "Syncing run <strong><a href='https://wandb.ai/lhj5671-korea-university-of-technology-and-education/titanic-grid/runs/b3zkrwig' target=\"_blank\">act=elu|bs=32</a></strong> to <a href='https://wandb.ai/lhj5671-korea-university-of-technology-and-education/titanic-grid' target=\"_blank\">Weights & Biases</a> (<a href='https://wandb.me/developer-guide' target=\"_blank\">docs</a>)<br>"
      ],
      "text/plain": [
       "<IPython.core.display.HTML object>"
      ]
     },
     "metadata": {},
     "output_type": "display_data"
    },
    {
     "data": {
      "text/html": [
       " View project at <a href='https://wandb.ai/lhj5671-korea-university-of-technology-and-education/titanic-grid' target=\"_blank\">https://wandb.ai/lhj5671-korea-university-of-technology-and-education/titanic-grid</a>"
      ],
      "text/plain": [
       "<IPython.core.display.HTML object>"
      ]
     },
     "metadata": {},
     "output_type": "display_data"
    },
    {
     "data": {
      "text/html": [
       " View run at <a href='https://wandb.ai/lhj5671-korea-university-of-technology-and-education/titanic-grid/runs/b3zkrwig' target=\"_blank\">https://wandb.ai/lhj5671-korea-university-of-technology-and-education/titanic-grid/runs/b3zkrwig</a>"
      ],
      "text/plain": [
       "<IPython.core.display.HTML object>"
      ]
     },
     "metadata": {},
     "output_type": "display_data"
    },
    {
     "data": {
      "text/html": [],
      "text/plain": [
       "<IPython.core.display.HTML object>"
      ]
     },
     "metadata": {},
     "output_type": "display_data"
    },
    {
     "data": {
      "text/html": [
       "<br>    <style><br>        .wandb-row {<br>            display: flex;<br>            flex-direction: row;<br>            flex-wrap: wrap;<br>            justify-content: flex-start;<br>            width: 100%;<br>        }<br>        .wandb-col {<br>            display: flex;<br>            flex-direction: column;<br>            flex-basis: 100%;<br>            flex: 1;<br>            padding: 10px;<br>        }<br>    </style><br><div class=\"wandb-row\"><div class=\"wandb-col\"><h3>Run history:</h3><br/><table class=\"wandb\"><tr><td>epoch</td><td>▁▁▁▁▂▂▂▂▂▂▃▃▃▃▃▄▄▄▄▄▅▅▅▅▅▆▆▆▆▆▆▇▇▇▇▇▇███</td></tr><tr><td>train/acc</td><td>▁▃▄▄▅▆▇▇▇▇▇▆▇▇▇▇▇▇█▇▇▇█▇█▇██▇▇██▇▇▇███▇▇</td></tr><tr><td>train/loss</td><td>█▆▅▅▅▃▂▃▂▃▂▂▂▂▂▂▂▁▂▁▂▂▂▁▂▁▁▂▁▁▁▂▁▁▁▂▂▁▂▁</td></tr><tr><td>val/acc</td><td>▁▁▁▃▄▆█▇▇▇▇█▆▇██▆▆█▇█▆▆▇▆▇▇█▅█▆▆█▇▇▆█▇▇▆</td></tr><tr><td>val/loss</td><td>█▇▆▆▅▄▂▂▁▂▁▁▂▁▂▁▂▂▁▁▂▂▁▂▁▁▁▂▁▁▂▁▁▁▁▁▁▁▁▂</td></tr></table><br/></div><div class=\"wandb-col\"><h3>Run summary:</h3><br/><table class=\"wandb\"><tr><td>epoch</td><td>50</td></tr><tr><td>train/acc</td><td>0.79383</td></tr><tr><td>train/loss</td><td>0.42395</td></tr><tr><td>val/acc</td><td>0.83708</td></tr><tr><td>val/loss</td><td>0.40343</td></tr></table><br/></div></div>"
      ],
      "text/plain": [
       "<IPython.core.display.HTML object>"
      ]
     },
     "metadata": {},
     "output_type": "display_data"
    },
    {
     "data": {
      "text/html": [
       " View run <strong style=\"color:#cdcd00\">act=elu|bs=32</strong> at: <a href='https://wandb.ai/lhj5671-korea-university-of-technology-and-education/titanic-grid/runs/b3zkrwig' target=\"_blank\">https://wandb.ai/lhj5671-korea-university-of-technology-and-education/titanic-grid/runs/b3zkrwig</a><br> View project at: <a href='https://wandb.ai/lhj5671-korea-university-of-technology-and-education/titanic-grid' target=\"_blank\">https://wandb.ai/lhj5671-korea-university-of-technology-and-education/titanic-grid</a><br>Synced 5 W&B file(s), 0 media file(s), 0 artifact file(s) and 0 other file(s)"
      ],
      "text/plain": [
       "<IPython.core.display.HTML object>"
      ]
     },
     "metadata": {},
     "output_type": "display_data"
    },
    {
     "data": {
      "text/html": [
       "Find logs at: <code>.\\wandb\\run-20251014_140351-b3zkrwig\\logs</code>"
      ],
      "text/plain": [
       "<IPython.core.display.HTML object>"
      ]
     },
     "metadata": {},
     "output_type": "display_data"
    },
    {
     "name": "stdout",
     "output_type": "stream",
     "text": [
      "▶ run: activation=elu, batch_size=64\n"
     ]
    },
    {
     "data": {
      "text/html": [],
      "text/plain": [
       "<IPython.core.display.HTML object>"
      ]
     },
     "metadata": {},
     "output_type": "display_data"
    },
    {
     "data": {
      "text/html": [
       "Tracking run with wandb version 0.22.1"
      ],
      "text/plain": [
       "<IPython.core.display.HTML object>"
      ]
     },
     "metadata": {},
     "output_type": "display_data"
    },
    {
     "data": {
      "text/html": [
       "Run data is saved locally in <code>c:\\Users\\lhj\\git\\link_dl\\_04_your_code\\wandb\\run-20251014_140359-x89zc2ey</code>"
      ],
      "text/plain": [
       "<IPython.core.display.HTML object>"
      ]
     },
     "metadata": {},
     "output_type": "display_data"
    },
    {
     "data": {
      "text/html": [
       "Syncing run <strong><a href='https://wandb.ai/lhj5671-korea-university-of-technology-and-education/titanic-grid/runs/x89zc2ey' target=\"_blank\">act=elu|bs=64</a></strong> to <a href='https://wandb.ai/lhj5671-korea-university-of-technology-and-education/titanic-grid' target=\"_blank\">Weights & Biases</a> (<a href='https://wandb.me/developer-guide' target=\"_blank\">docs</a>)<br>"
      ],
      "text/plain": [
       "<IPython.core.display.HTML object>"
      ]
     },
     "metadata": {},
     "output_type": "display_data"
    },
    {
     "data": {
      "text/html": [
       " View project at <a href='https://wandb.ai/lhj5671-korea-university-of-technology-and-education/titanic-grid' target=\"_blank\">https://wandb.ai/lhj5671-korea-university-of-technology-and-education/titanic-grid</a>"
      ],
      "text/plain": [
       "<IPython.core.display.HTML object>"
      ]
     },
     "metadata": {},
     "output_type": "display_data"
    },
    {
     "data": {
      "text/html": [
       " View run at <a href='https://wandb.ai/lhj5671-korea-university-of-technology-and-education/titanic-grid/runs/x89zc2ey' target=\"_blank\">https://wandb.ai/lhj5671-korea-university-of-technology-and-education/titanic-grid/runs/x89zc2ey</a>"
      ],
      "text/plain": [
       "<IPython.core.display.HTML object>"
      ]
     },
     "metadata": {},
     "output_type": "display_data"
    },
    {
     "data": {
      "text/html": [],
      "text/plain": [
       "<IPython.core.display.HTML object>"
      ]
     },
     "metadata": {},
     "output_type": "display_data"
    },
    {
     "data": {
      "text/html": [
       "<br>    <style><br>        .wandb-row {<br>            display: flex;<br>            flex-direction: row;<br>            flex-wrap: wrap;<br>            justify-content: flex-start;<br>            width: 100%;<br>        }<br>        .wandb-col {<br>            display: flex;<br>            flex-direction: column;<br>            flex-basis: 100%;<br>            flex: 1;<br>            padding: 10px;<br>        }<br>    </style><br><div class=\"wandb-row\"><div class=\"wandb-col\"><h3>Run history:</h3><br/><table class=\"wandb\"><tr><td>epoch</td><td>▁▁▁▁▂▂▂▂▂▂▃▃▃▃▃▄▄▄▄▄▅▅▅▅▅▆▆▆▆▆▆▇▇▇▇▇▇███</td></tr><tr><td>train/acc</td><td>▁▄▅▅▅▆▆▇▇▇▇▆▇▇▇▇▇▇▇▇▇▇▇▇█▇█▇▇▇██▇███████</td></tr><tr><td>train/loss</td><td>█▆▆▅▅▄▄▃▃▃▃▃▂▂▂▂▂▂▂▂▂▂▁▂▁▂▂▁▁▁▁▂▁▁▂▁▁▁▁▁</td></tr><tr><td>val/acc</td><td>▁▁▁▁▃▄▃▅▆▇▇▇▅█▆█▆▇▇▇▇▆█▇▇▇▆▇▇▇▇▇▇█▇█▇█▆█</td></tr><tr><td>val/loss</td><td>██▇▇▆▅▄▄▄▃▃▂▂▃▂▂▁▂▁▂▂▃▁▁▁▁▂▁▁▁▁▁▁▁▁▁▁▁▂▁</td></tr></table><br/></div><div class=\"wandb-col\"><h3>Run summary:</h3><br/><table class=\"wandb\"><tr><td>epoch</td><td>50</td></tr><tr><td>train/acc</td><td>0.80365</td></tr><tr><td>train/loss</td><td>0.42734</td></tr><tr><td>val/acc</td><td>0.8764</td></tr><tr><td>val/loss</td><td>0.38093</td></tr></table><br/></div></div>"
      ],
      "text/plain": [
       "<IPython.core.display.HTML object>"
      ]
     },
     "metadata": {},
     "output_type": "display_data"
    },
    {
     "data": {
      "text/html": [
       " View run <strong style=\"color:#cdcd00\">act=elu|bs=64</strong> at: <a href='https://wandb.ai/lhj5671-korea-university-of-technology-and-education/titanic-grid/runs/x89zc2ey' target=\"_blank\">https://wandb.ai/lhj5671-korea-university-of-technology-and-education/titanic-grid/runs/x89zc2ey</a><br> View project at: <a href='https://wandb.ai/lhj5671-korea-university-of-technology-and-education/titanic-grid' target=\"_blank\">https://wandb.ai/lhj5671-korea-university-of-technology-and-education/titanic-grid</a><br>Synced 5 W&B file(s), 0 media file(s), 0 artifact file(s) and 0 other file(s)"
      ],
      "text/plain": [
       "<IPython.core.display.HTML object>"
      ]
     },
     "metadata": {},
     "output_type": "display_data"
    },
    {
     "data": {
      "text/html": [
       "Find logs at: <code>.\\wandb\\run-20251014_140359-x89zc2ey\\logs</code>"
      ],
      "text/plain": [
       "<IPython.core.display.HTML object>"
      ]
     },
     "metadata": {},
     "output_type": "display_data"
    },
    {
     "name": "stdout",
     "output_type": "stream",
     "text": [
      "▶ run: activation=elu, batch_size=128\n"
     ]
    },
    {
     "data": {
      "text/html": [],
      "text/plain": [
       "<IPython.core.display.HTML object>"
      ]
     },
     "metadata": {},
     "output_type": "display_data"
    },
    {
     "data": {
      "text/html": [
       "Tracking run with wandb version 0.22.1"
      ],
      "text/plain": [
       "<IPython.core.display.HTML object>"
      ]
     },
     "metadata": {},
     "output_type": "display_data"
    },
    {
     "data": {
      "text/html": [
       "Run data is saved locally in <code>c:\\Users\\lhj\\git\\link_dl\\_04_your_code\\wandb\\run-20251014_140406-2vd8x9j5</code>"
      ],
      "text/plain": [
       "<IPython.core.display.HTML object>"
      ]
     },
     "metadata": {},
     "output_type": "display_data"
    },
    {
     "data": {
      "text/html": [
       "Syncing run <strong><a href='https://wandb.ai/lhj5671-korea-university-of-technology-and-education/titanic-grid/runs/2vd8x9j5' target=\"_blank\">act=elu|bs=128</a></strong> to <a href='https://wandb.ai/lhj5671-korea-university-of-technology-and-education/titanic-grid' target=\"_blank\">Weights & Biases</a> (<a href='https://wandb.me/developer-guide' target=\"_blank\">docs</a>)<br>"
      ],
      "text/plain": [
       "<IPython.core.display.HTML object>"
      ]
     },
     "metadata": {},
     "output_type": "display_data"
    },
    {
     "data": {
      "text/html": [
       " View project at <a href='https://wandb.ai/lhj5671-korea-university-of-technology-and-education/titanic-grid' target=\"_blank\">https://wandb.ai/lhj5671-korea-university-of-technology-and-education/titanic-grid</a>"
      ],
      "text/plain": [
       "<IPython.core.display.HTML object>"
      ]
     },
     "metadata": {},
     "output_type": "display_data"
    },
    {
     "data": {
      "text/html": [
       " View run at <a href='https://wandb.ai/lhj5671-korea-university-of-technology-and-education/titanic-grid/runs/2vd8x9j5' target=\"_blank\">https://wandb.ai/lhj5671-korea-university-of-technology-and-education/titanic-grid/runs/2vd8x9j5</a>"
      ],
      "text/plain": [
       "<IPython.core.display.HTML object>"
      ]
     },
     "metadata": {},
     "output_type": "display_data"
    },
    {
     "data": {
      "text/html": [],
      "text/plain": [
       "<IPython.core.display.HTML object>"
      ]
     },
     "metadata": {},
     "output_type": "display_data"
    },
    {
     "data": {
      "text/html": [
       "<br>    <style><br>        .wandb-row {<br>            display: flex;<br>            flex-direction: row;<br>            flex-wrap: wrap;<br>            justify-content: flex-start;<br>            width: 100%;<br>        }<br>        .wandb-col {<br>            display: flex;<br>            flex-direction: column;<br>            flex-basis: 100%;<br>            flex: 1;<br>            padding: 10px;<br>        }<br>    </style><br><div class=\"wandb-row\"><div class=\"wandb-col\"><h3>Run history:</h3><br/><table class=\"wandb\"><tr><td>epoch</td><td>▁▁▁▁▂▂▂▂▂▂▃▃▃▃▃▄▄▄▄▄▅▅▅▅▅▅▆▆▆▆▆▆▇▇▇▇▇███</td></tr><tr><td>train/acc</td><td>▁▅▅▅▅▆▆▆▇▇▇▇▇▇▇█▇███▇███▇███████████████</td></tr><tr><td>train/loss</td><td>█▆▆▆▅▅▅▄▄▄▃▃▃▂▂▂▂▂▂▂▂▂▂▂▂▁▂▂▂▁▁▁▁▁▁▁▁▁▁▁</td></tr><tr><td>val/acc</td><td>▁▁▁▁▁▁▁▂▃▃▄▅▅▅▆▆▆▆▇▆▇█▇█▇▇▇▇▇▇▇▇▇██▇▇█▆█</td></tr><tr><td>val/loss</td><td>████▇▆▆▆▅▅▄▄▃▃▃▂▂▂▂▂▁▁▂▂▂▁▁▂▁▂▂▁▁▁▁▁▁▁▁▁</td></tr></table><br/></div><div class=\"wandb-col\"><h3>Run summary:</h3><br/><table class=\"wandb\"><tr><td>epoch</td><td>50</td></tr><tr><td>train/acc</td><td>0.81767</td></tr><tr><td>train/loss</td><td>0.4185</td></tr><tr><td>val/acc</td><td>0.8764</td></tr><tr><td>val/loss</td><td>0.37587</td></tr></table><br/></div></div>"
      ],
      "text/plain": [
       "<IPython.core.display.HTML object>"
      ]
     },
     "metadata": {},
     "output_type": "display_data"
    },
    {
     "data": {
      "text/html": [
       " View run <strong style=\"color:#cdcd00\">act=elu|bs=128</strong> at: <a href='https://wandb.ai/lhj5671-korea-university-of-technology-and-education/titanic-grid/runs/2vd8x9j5' target=\"_blank\">https://wandb.ai/lhj5671-korea-university-of-technology-and-education/titanic-grid/runs/2vd8x9j5</a><br> View project at: <a href='https://wandb.ai/lhj5671-korea-university-of-technology-and-education/titanic-grid' target=\"_blank\">https://wandb.ai/lhj5671-korea-university-of-technology-and-education/titanic-grid</a><br>Synced 5 W&B file(s), 0 media file(s), 0 artifact file(s) and 0 other file(s)"
      ],
      "text/plain": [
       "<IPython.core.display.HTML object>"
      ]
     },
     "metadata": {},
     "output_type": "display_data"
    },
    {
     "data": {
      "text/html": [
       "Find logs at: <code>.\\wandb\\run-20251014_140406-2vd8x9j5\\logs</code>"
      ],
      "text/plain": [
       "<IPython.core.display.HTML object>"
      ]
     },
     "metadata": {},
     "output_type": "display_data"
    },
    {
     "name": "stdout",
     "output_type": "stream",
     "text": [
      "▶ run: activation=leaky_relu, batch_size=16\n"
     ]
    },
    {
     "data": {
      "text/html": [],
      "text/plain": [
       "<IPython.core.display.HTML object>"
      ]
     },
     "metadata": {},
     "output_type": "display_data"
    },
    {
     "data": {
      "text/html": [
       "Tracking run with wandb version 0.22.1"
      ],
      "text/plain": [
       "<IPython.core.display.HTML object>"
      ]
     },
     "metadata": {},
     "output_type": "display_data"
    },
    {
     "data": {
      "text/html": [
       "Run data is saved locally in <code>c:\\Users\\lhj\\git\\link_dl\\_04_your_code\\wandb\\run-20251014_140412-qidf1azx</code>"
      ],
      "text/plain": [
       "<IPython.core.display.HTML object>"
      ]
     },
     "metadata": {},
     "output_type": "display_data"
    },
    {
     "data": {
      "text/html": [
       "Syncing run <strong><a href='https://wandb.ai/lhj5671-korea-university-of-technology-and-education/titanic-grid/runs/qidf1azx' target=\"_blank\">act=leaky_relu|bs=16</a></strong> to <a href='https://wandb.ai/lhj5671-korea-university-of-technology-and-education/titanic-grid' target=\"_blank\">Weights & Biases</a> (<a href='https://wandb.me/developer-guide' target=\"_blank\">docs</a>)<br>"
      ],
      "text/plain": [
       "<IPython.core.display.HTML object>"
      ]
     },
     "metadata": {},
     "output_type": "display_data"
    },
    {
     "data": {
      "text/html": [
       " View project at <a href='https://wandb.ai/lhj5671-korea-university-of-technology-and-education/titanic-grid' target=\"_blank\">https://wandb.ai/lhj5671-korea-university-of-technology-and-education/titanic-grid</a>"
      ],
      "text/plain": [
       "<IPython.core.display.HTML object>"
      ]
     },
     "metadata": {},
     "output_type": "display_data"
    },
    {
     "data": {
      "text/html": [
       " View run at <a href='https://wandb.ai/lhj5671-korea-university-of-technology-and-education/titanic-grid/runs/qidf1azx' target=\"_blank\">https://wandb.ai/lhj5671-korea-university-of-technology-and-education/titanic-grid/runs/qidf1azx</a>"
      ],
      "text/plain": [
       "<IPython.core.display.HTML object>"
      ]
     },
     "metadata": {},
     "output_type": "display_data"
    },
    {
     "data": {
      "text/html": [],
      "text/plain": [
       "<IPython.core.display.HTML object>"
      ]
     },
     "metadata": {},
     "output_type": "display_data"
    },
    {
     "data": {
      "text/html": [
       "<br>    <style><br>        .wandb-row {<br>            display: flex;<br>            flex-direction: row;<br>            flex-wrap: wrap;<br>            justify-content: flex-start;<br>            width: 100%;<br>        }<br>        .wandb-col {<br>            display: flex;<br>            flex-direction: column;<br>            flex-basis: 100%;<br>            flex: 1;<br>            padding: 10px;<br>        }<br>    </style><br><div class=\"wandb-row\"><div class=\"wandb-col\"><h3>Run history:</h3><br/><table class=\"wandb\"><tr><td>epoch</td><td>▁▁▁▁▂▂▂▂▂▃▃▃▃▃▃▄▄▄▄▄▅▅▅▅▅▅▆▆▆▆▆▆▇▇▇▇▇███</td></tr><tr><td>train/acc</td><td>▁▃▄▄▅▆▆▇▇▆▇▇█▇▇█▇▇█▇▇█▇▇█▇▇▇▇▇▇▇██▇▇█▇▇█</td></tr><tr><td>train/loss</td><td>█▆▆▆▅▄▃▃▃▂▃▃▂▂▂▂▂▁▂▂▂▂▂▂▂▂▁▂▂▂▁▁▂▂▂▂▂▂▁▂</td></tr><tr><td>val/acc</td><td>▁▃▃▅▇▇▇▇███▇▇██▇▆▇▇▇▇██▆▇▇▆▇▆▇▇█▇▆▇▆▆▇▇▆</td></tr><tr><td>val/loss</td><td>█▇▇▆▅▅▂▂▂▂▁▁▂▁▂▂▂▂▂▂▁▂▂▁▂▂▂▂▂▂▂▂▂▃▂▂▂▂▂▂</td></tr></table><br/></div><div class=\"wandb-col\"><h3>Run summary:</h3><br/><table class=\"wandb\"><tr><td>epoch</td><td>50</td></tr><tr><td>train/acc</td><td>0.82328</td></tr><tr><td>train/loss</td><td>0.40224</td></tr><tr><td>val/acc</td><td>0.82022</td></tr><tr><td>val/loss</td><td>0.41078</td></tr></table><br/></div></div>"
      ],
      "text/plain": [
       "<IPython.core.display.HTML object>"
      ]
     },
     "metadata": {},
     "output_type": "display_data"
    },
    {
     "data": {
      "text/html": [
       " View run <strong style=\"color:#cdcd00\">act=leaky_relu|bs=16</strong> at: <a href='https://wandb.ai/lhj5671-korea-university-of-technology-and-education/titanic-grid/runs/qidf1azx' target=\"_blank\">https://wandb.ai/lhj5671-korea-university-of-technology-and-education/titanic-grid/runs/qidf1azx</a><br> View project at: <a href='https://wandb.ai/lhj5671-korea-university-of-technology-and-education/titanic-grid' target=\"_blank\">https://wandb.ai/lhj5671-korea-university-of-technology-and-education/titanic-grid</a><br>Synced 5 W&B file(s), 0 media file(s), 0 artifact file(s) and 0 other file(s)"
      ],
      "text/plain": [
       "<IPython.core.display.HTML object>"
      ]
     },
     "metadata": {},
     "output_type": "display_data"
    },
    {
     "data": {
      "text/html": [
       "Find logs at: <code>.\\wandb\\run-20251014_140412-qidf1azx\\logs</code>"
      ],
      "text/plain": [
       "<IPython.core.display.HTML object>"
      ]
     },
     "metadata": {},
     "output_type": "display_data"
    },
    {
     "name": "stdout",
     "output_type": "stream",
     "text": [
      "▶ run: activation=leaky_relu, batch_size=32\n"
     ]
    },
    {
     "data": {
      "text/html": [],
      "text/plain": [
       "<IPython.core.display.HTML object>"
      ]
     },
     "metadata": {},
     "output_type": "display_data"
    },
    {
     "data": {
      "text/html": [
       "Tracking run with wandb version 0.22.1"
      ],
      "text/plain": [
       "<IPython.core.display.HTML object>"
      ]
     },
     "metadata": {},
     "output_type": "display_data"
    },
    {
     "data": {
      "text/html": [
       "Run data is saved locally in <code>c:\\Users\\lhj\\git\\link_dl\\_04_your_code\\wandb\\run-20251014_140425-8gbm4l2l</code>"
      ],
      "text/plain": [
       "<IPython.core.display.HTML object>"
      ]
     },
     "metadata": {},
     "output_type": "display_data"
    },
    {
     "data": {
      "text/html": [
       "Syncing run <strong><a href='https://wandb.ai/lhj5671-korea-university-of-technology-and-education/titanic-grid/runs/8gbm4l2l' target=\"_blank\">act=leaky_relu|bs=32</a></strong> to <a href='https://wandb.ai/lhj5671-korea-university-of-technology-and-education/titanic-grid' target=\"_blank\">Weights & Biases</a> (<a href='https://wandb.me/developer-guide' target=\"_blank\">docs</a>)<br>"
      ],
      "text/plain": [
       "<IPython.core.display.HTML object>"
      ]
     },
     "metadata": {},
     "output_type": "display_data"
    },
    {
     "data": {
      "text/html": [
       " View project at <a href='https://wandb.ai/lhj5671-korea-university-of-technology-and-education/titanic-grid' target=\"_blank\">https://wandb.ai/lhj5671-korea-university-of-technology-and-education/titanic-grid</a>"
      ],
      "text/plain": [
       "<IPython.core.display.HTML object>"
      ]
     },
     "metadata": {},
     "output_type": "display_data"
    },
    {
     "data": {
      "text/html": [
       " View run at <a href='https://wandb.ai/lhj5671-korea-university-of-technology-and-education/titanic-grid/runs/8gbm4l2l' target=\"_blank\">https://wandb.ai/lhj5671-korea-university-of-technology-and-education/titanic-grid/runs/8gbm4l2l</a>"
      ],
      "text/plain": [
       "<IPython.core.display.HTML object>"
      ]
     },
     "metadata": {},
     "output_type": "display_data"
    },
    {
     "data": {
      "text/html": [],
      "text/plain": [
       "<IPython.core.display.HTML object>"
      ]
     },
     "metadata": {},
     "output_type": "display_data"
    },
    {
     "data": {
      "text/html": [
       "<br>    <style><br>        .wandb-row {<br>            display: flex;<br>            flex-direction: row;<br>            flex-wrap: wrap;<br>            justify-content: flex-start;<br>            width: 100%;<br>        }<br>        .wandb-col {<br>            display: flex;<br>            flex-direction: column;<br>            flex-basis: 100%;<br>            flex: 1;<br>            padding: 10px;<br>        }<br>    </style><br><div class=\"wandb-row\"><div class=\"wandb-col\"><h3>Run history:</h3><br/><table class=\"wandb\"><tr><td>epoch</td><td>▁▁▁▁▂▂▂▂▂▂▃▃▃▃▃▄▄▄▄▄▄▅▅▅▅▅▆▆▆▆▆▇▇▇▇▇▇███</td></tr><tr><td>train/acc</td><td>▁▄▄▅▅▆▆▇▇▇▇▇▇▇█▇█▇█████▇██▇██▇▇▇████▇███</td></tr><tr><td>train/loss</td><td>█▆▆▅▅▄▄▄▃▃▃▃▂▂▂▂▂▁▂▁▂▂▂▂▂▂▂▁▁▂▂▂▁▂▁▂▂▁▂▁</td></tr><tr><td>val/acc</td><td>▁▁▂▂▄▅▅▅▆▆▆██▆▇▆▇▇▇▇▇▇▇▇▇▇▇▇▇█▆▇▇▇▇▇█▇▇▆</td></tr><tr><td>val/loss</td><td>█▇▆▆▆▅▄▄▃▃▂▁▃▂▁▁▃▂▁▁▁▂▁▁▁▁▁▂▁▁▂▁▂▁▁▁▁▁▁▃</td></tr></table><br/></div><div class=\"wandb-col\"><h3>Run summary:</h3><br/><table class=\"wandb\"><tr><td>epoch</td><td>50</td></tr><tr><td>train/acc</td><td>0.82048</td></tr><tr><td>train/loss</td><td>0.39124</td></tr><tr><td>val/acc</td><td>0.82022</td></tr><tr><td>val/loss</td><td>0.44993</td></tr></table><br/></div></div>"
      ],
      "text/plain": [
       "<IPython.core.display.HTML object>"
      ]
     },
     "metadata": {},
     "output_type": "display_data"
    },
    {
     "data": {
      "text/html": [
       " View run <strong style=\"color:#cdcd00\">act=leaky_relu|bs=32</strong> at: <a href='https://wandb.ai/lhj5671-korea-university-of-technology-and-education/titanic-grid/runs/8gbm4l2l' target=\"_blank\">https://wandb.ai/lhj5671-korea-university-of-technology-and-education/titanic-grid/runs/8gbm4l2l</a><br> View project at: <a href='https://wandb.ai/lhj5671-korea-university-of-technology-and-education/titanic-grid' target=\"_blank\">https://wandb.ai/lhj5671-korea-university-of-technology-and-education/titanic-grid</a><br>Synced 5 W&B file(s), 0 media file(s), 0 artifact file(s) and 0 other file(s)"
      ],
      "text/plain": [
       "<IPython.core.display.HTML object>"
      ]
     },
     "metadata": {},
     "output_type": "display_data"
    },
    {
     "data": {
      "text/html": [
       "Find logs at: <code>.\\wandb\\run-20251014_140425-8gbm4l2l\\logs</code>"
      ],
      "text/plain": [
       "<IPython.core.display.HTML object>"
      ]
     },
     "metadata": {},
     "output_type": "display_data"
    },
    {
     "name": "stdout",
     "output_type": "stream",
     "text": [
      "▶ run: activation=leaky_relu, batch_size=64\n"
     ]
    },
    {
     "data": {
      "text/html": [],
      "text/plain": [
       "<IPython.core.display.HTML object>"
      ]
     },
     "metadata": {},
     "output_type": "display_data"
    },
    {
     "data": {
      "text/html": [
       "Tracking run with wandb version 0.22.1"
      ],
      "text/plain": [
       "<IPython.core.display.HTML object>"
      ]
     },
     "metadata": {},
     "output_type": "display_data"
    },
    {
     "data": {
      "text/html": [
       "Run data is saved locally in <code>c:\\Users\\lhj\\git\\link_dl\\_04_your_code\\wandb\\run-20251014_140432-macybeh7</code>"
      ],
      "text/plain": [
       "<IPython.core.display.HTML object>"
      ]
     },
     "metadata": {},
     "output_type": "display_data"
    },
    {
     "data": {
      "text/html": [
       "Syncing run <strong><a href='https://wandb.ai/lhj5671-korea-university-of-technology-and-education/titanic-grid/runs/macybeh7' target=\"_blank\">act=leaky_relu|bs=64</a></strong> to <a href='https://wandb.ai/lhj5671-korea-university-of-technology-and-education/titanic-grid' target=\"_blank\">Weights & Biases</a> (<a href='https://wandb.me/developer-guide' target=\"_blank\">docs</a>)<br>"
      ],
      "text/plain": [
       "<IPython.core.display.HTML object>"
      ]
     },
     "metadata": {},
     "output_type": "display_data"
    },
    {
     "data": {
      "text/html": [
       " View project at <a href='https://wandb.ai/lhj5671-korea-university-of-technology-and-education/titanic-grid' target=\"_blank\">https://wandb.ai/lhj5671-korea-university-of-technology-and-education/titanic-grid</a>"
      ],
      "text/plain": [
       "<IPython.core.display.HTML object>"
      ]
     },
     "metadata": {},
     "output_type": "display_data"
    },
    {
     "data": {
      "text/html": [
       " View run at <a href='https://wandb.ai/lhj5671-korea-university-of-technology-and-education/titanic-grid/runs/macybeh7' target=\"_blank\">https://wandb.ai/lhj5671-korea-university-of-technology-and-education/titanic-grid/runs/macybeh7</a>"
      ],
      "text/plain": [
       "<IPython.core.display.HTML object>"
      ]
     },
     "metadata": {},
     "output_type": "display_data"
    },
    {
     "data": {
      "text/html": [],
      "text/plain": [
       "<IPython.core.display.HTML object>"
      ]
     },
     "metadata": {},
     "output_type": "display_data"
    },
    {
     "data": {
      "text/html": [
       "<br>    <style><br>        .wandb-row {<br>            display: flex;<br>            flex-direction: row;<br>            flex-wrap: wrap;<br>            justify-content: flex-start;<br>            width: 100%;<br>        }<br>        .wandb-col {<br>            display: flex;<br>            flex-direction: column;<br>            flex-basis: 100%;<br>            flex: 1;<br>            padding: 10px;<br>        }<br>    </style><br><div class=\"wandb-row\"><div class=\"wandb-col\"><h3>Run history:</h3><br/><table class=\"wandb\"><tr><td>epoch</td><td>▁▁▁▁▂▂▂▂▂▂▃▃▃▃▃▄▄▄▄▄▄▅▅▅▅▅▆▆▆▆▆▇▇▇▇▇▇███</td></tr><tr><td>train/acc</td><td>▁▅▅▅▅▆▆▆▆▆▆▇▇▇▇▇▇▇▇▇▇▇▇█▇█▇▇▇█████████▇█</td></tr><tr><td>train/loss</td><td>█▆▆▅▅▅▄▄▄▄▄▃▃▃▃▂▂▂▂▂▂▂▂▁▂▁▂▂▁▁▁▁▁▁▁▁▂▁▁▁</td></tr><tr><td>val/acc</td><td>▁▁▂▂▃▄▅▄▅▅▆▆▅▆▇▆▇█▇▇▇▇█▇▇█▇▇▇▇▇▇▇█▇█▇▇█▇</td></tr><tr><td>val/loss</td><td>██▇▆▆▆▅▅▅▅▅▄▄▄▃▃▂▃▂▁▁▂▁▂▁▁▁▁▂▁▂▂▁▁▁▁▁▁▁▁</td></tr></table><br/></div><div class=\"wandb-col\"><h3>Run summary:</h3><br/><table class=\"wandb\"><tr><td>epoch</td><td>50</td></tr><tr><td>train/acc</td><td>0.83029</td></tr><tr><td>train/loss</td><td>0.38568</td></tr><tr><td>val/acc</td><td>0.8427</td></tr><tr><td>val/loss</td><td>0.39351</td></tr></table><br/></div></div>"
      ],
      "text/plain": [
       "<IPython.core.display.HTML object>"
      ]
     },
     "metadata": {},
     "output_type": "display_data"
    },
    {
     "data": {
      "text/html": [
       " View run <strong style=\"color:#cdcd00\">act=leaky_relu|bs=64</strong> at: <a href='https://wandb.ai/lhj5671-korea-university-of-technology-and-education/titanic-grid/runs/macybeh7' target=\"_blank\">https://wandb.ai/lhj5671-korea-university-of-technology-and-education/titanic-grid/runs/macybeh7</a><br> View project at: <a href='https://wandb.ai/lhj5671-korea-university-of-technology-and-education/titanic-grid' target=\"_blank\">https://wandb.ai/lhj5671-korea-university-of-technology-and-education/titanic-grid</a><br>Synced 5 W&B file(s), 0 media file(s), 0 artifact file(s) and 0 other file(s)"
      ],
      "text/plain": [
       "<IPython.core.display.HTML object>"
      ]
     },
     "metadata": {},
     "output_type": "display_data"
    },
    {
     "data": {
      "text/html": [
       "Find logs at: <code>.\\wandb\\run-20251014_140432-macybeh7\\logs</code>"
      ],
      "text/plain": [
       "<IPython.core.display.HTML object>"
      ]
     },
     "metadata": {},
     "output_type": "display_data"
    },
    {
     "name": "stdout",
     "output_type": "stream",
     "text": [
      "▶ run: activation=leaky_relu, batch_size=128\n"
     ]
    },
    {
     "data": {
      "text/html": [],
      "text/plain": [
       "<IPython.core.display.HTML object>"
      ]
     },
     "metadata": {},
     "output_type": "display_data"
    },
    {
     "data": {
      "text/html": [
       "Tracking run with wandb version 0.22.1"
      ],
      "text/plain": [
       "<IPython.core.display.HTML object>"
      ]
     },
     "metadata": {},
     "output_type": "display_data"
    },
    {
     "data": {
      "text/html": [
       "Run data is saved locally in <code>c:\\Users\\lhj\\git\\link_dl\\_04_your_code\\wandb\\run-20251014_140439-y1pvy8zx</code>"
      ],
      "text/plain": [
       "<IPython.core.display.HTML object>"
      ]
     },
     "metadata": {},
     "output_type": "display_data"
    },
    {
     "data": {
      "text/html": [
       "Syncing run <strong><a href='https://wandb.ai/lhj5671-korea-university-of-technology-and-education/titanic-grid/runs/y1pvy8zx' target=\"_blank\">act=leaky_relu|bs=128</a></strong> to <a href='https://wandb.ai/lhj5671-korea-university-of-technology-and-education/titanic-grid' target=\"_blank\">Weights & Biases</a> (<a href='https://wandb.me/developer-guide' target=\"_blank\">docs</a>)<br>"
      ],
      "text/plain": [
       "<IPython.core.display.HTML object>"
      ]
     },
     "metadata": {},
     "output_type": "display_data"
    },
    {
     "data": {
      "text/html": [
       " View project at <a href='https://wandb.ai/lhj5671-korea-university-of-technology-and-education/titanic-grid' target=\"_blank\">https://wandb.ai/lhj5671-korea-university-of-technology-and-education/titanic-grid</a>"
      ],
      "text/plain": [
       "<IPython.core.display.HTML object>"
      ]
     },
     "metadata": {},
     "output_type": "display_data"
    },
    {
     "data": {
      "text/html": [
       " View run at <a href='https://wandb.ai/lhj5671-korea-university-of-technology-and-education/titanic-grid/runs/y1pvy8zx' target=\"_blank\">https://wandb.ai/lhj5671-korea-university-of-technology-and-education/titanic-grid/runs/y1pvy8zx</a>"
      ],
      "text/plain": [
       "<IPython.core.display.HTML object>"
      ]
     },
     "metadata": {},
     "output_type": "display_data"
    },
    {
     "data": {
      "text/html": [],
      "text/plain": [
       "<IPython.core.display.HTML object>"
      ]
     },
     "metadata": {},
     "output_type": "display_data"
    },
    {
     "data": {
      "text/html": [
       "<br>    <style><br>        .wandb-row {<br>            display: flex;<br>            flex-direction: row;<br>            flex-wrap: wrap;<br>            justify-content: flex-start;<br>            width: 100%;<br>        }<br>        .wandb-col {<br>            display: flex;<br>            flex-direction: column;<br>            flex-basis: 100%;<br>            flex: 1;<br>            padding: 10px;<br>        }<br>    </style><br><div class=\"wandb-row\"><div class=\"wandb-col\"><h3>Run history:</h3><br/><table class=\"wandb\"><tr><td>epoch</td><td>▁▁▁▁▂▂▂▂▂▂▃▃▃▃▃▄▄▄▄▄▄▅▅▅▅▅▆▆▆▆▆▆▇▇▇▇▇███</td></tr><tr><td>train/acc</td><td>▁▄▅▅▅▅▆▆▆▆▆▇▇▇▇▇▇▇▇▇▇█▇█▇██▇▇█████▇█████</td></tr><tr><td>train/loss</td><td>█▆▆▅▅▅▅▄▄▄▄▄▄▃▃▃▃▃▃▂▂▂▂▂▂▂▂▂▂▂▁▁▁▁▁▁▁▁▁▁</td></tr><tr><td>val/acc</td><td>▁▁▁▁▁▂▂▂▃▃▄▄▄▅▅▅▆▆▆▆▆▆▆▆▆▇▇▇▆▇██▆███▇▇▇▇</td></tr><tr><td>val/loss</td><td>███▇▇▆▆▆▆▆▅▅▅▅▅▄▄▄▃▃▃▂▃▃▂▂▁▁▂▁▁▁▂▁▁▁▂▁▁▁</td></tr></table><br/></div><div class=\"wandb-col\"><h3>Run summary:</h3><br/><table class=\"wandb\"><tr><td>epoch</td><td>50</td></tr><tr><td>train/acc</td><td>0.84432</td></tr><tr><td>train/loss</td><td>0.38334</td></tr><tr><td>val/acc</td><td>0.84831</td></tr><tr><td>val/loss</td><td>0.39078</td></tr></table><br/></div></div>"
      ],
      "text/plain": [
       "<IPython.core.display.HTML object>"
      ]
     },
     "metadata": {},
     "output_type": "display_data"
    },
    {
     "data": {
      "text/html": [
       " View run <strong style=\"color:#cdcd00\">act=leaky_relu|bs=128</strong> at: <a href='https://wandb.ai/lhj5671-korea-university-of-technology-and-education/titanic-grid/runs/y1pvy8zx' target=\"_blank\">https://wandb.ai/lhj5671-korea-university-of-technology-and-education/titanic-grid/runs/y1pvy8zx</a><br> View project at: <a href='https://wandb.ai/lhj5671-korea-university-of-technology-and-education/titanic-grid' target=\"_blank\">https://wandb.ai/lhj5671-korea-university-of-technology-and-education/titanic-grid</a><br>Synced 5 W&B file(s), 0 media file(s), 0 artifact file(s) and 0 other file(s)"
      ],
      "text/plain": [
       "<IPython.core.display.HTML object>"
      ]
     },
     "metadata": {},
     "output_type": "display_data"
    },
    {
     "data": {
      "text/html": [
       "Find logs at: <code>.\\wandb\\run-20251014_140439-y1pvy8zx\\logs</code>"
      ],
      "text/plain": [
       "<IPython.core.display.HTML object>"
      ]
     },
     "metadata": {},
     "output_type": "display_data"
    },
    {
     "name": "stdout",
     "output_type": "stream",
     "text": [
      "총 소요시간: 128.6s\n"
     ]
    },
    {
     "data": {
      "text/html": [
       "<div>\n",
       "<style scoped>\n",
       "    .dataframe tbody tr th:only-of-type {\n",
       "        vertical-align: middle;\n",
       "    }\n",
       "\n",
       "    .dataframe tbody tr th {\n",
       "        vertical-align: top;\n",
       "    }\n",
       "\n",
       "    .dataframe thead th {\n",
       "        text-align: right;\n",
       "    }\n",
       "</style>\n",
       "<table border=\"1\" class=\"dataframe\">\n",
       "  <thead>\n",
       "    <tr style=\"text-align: right;\">\n",
       "      <th></th>\n",
       "      <th>activation</th>\n",
       "      <th>batch_size</th>\n",
       "      <th>best_epoch</th>\n",
       "      <th>val_acc</th>\n",
       "      <th>val_loss</th>\n",
       "      <th>train_acc</th>\n",
       "      <th>train_loss</th>\n",
       "    </tr>\n",
       "  </thead>\n",
       "  <tbody>\n",
       "    <tr>\n",
       "      <th>0</th>\n",
       "      <td>elu</td>\n",
       "      <td>32</td>\n",
       "      <td>9</td>\n",
       "      <td>0.893258</td>\n",
       "      <td>0.410284</td>\n",
       "      <td>0.779804</td>\n",
       "      <td>0.467223</td>\n",
       "    </tr>\n",
       "    <tr>\n",
       "      <th>1</th>\n",
       "      <td>elu</td>\n",
       "      <td>16</td>\n",
       "      <td>13</td>\n",
       "      <td>0.887640</td>\n",
       "      <td>0.394448</td>\n",
       "      <td>0.796634</td>\n",
       "      <td>0.472520</td>\n",
       "    </tr>\n",
       "    <tr>\n",
       "      <th>2</th>\n",
       "      <td>elu</td>\n",
       "      <td>64</td>\n",
       "      <td>28</td>\n",
       "      <td>0.887640</td>\n",
       "      <td>0.383250</td>\n",
       "      <td>0.788219</td>\n",
       "      <td>0.457211</td>\n",
       "    </tr>\n",
       "    <tr>\n",
       "      <th>3</th>\n",
       "      <td>elu</td>\n",
       "      <td>128</td>\n",
       "      <td>28</td>\n",
       "      <td>0.887640</td>\n",
       "      <td>0.387593</td>\n",
       "      <td>0.799439</td>\n",
       "      <td>0.439278</td>\n",
       "    </tr>\n",
       "    <tr>\n",
       "      <th>4</th>\n",
       "      <td>leaky_relu</td>\n",
       "      <td>32</td>\n",
       "      <td>14</td>\n",
       "      <td>0.887640</td>\n",
       "      <td>0.381679</td>\n",
       "      <td>0.779804</td>\n",
       "      <td>0.452256</td>\n",
       "    </tr>\n",
       "    <tr>\n",
       "      <th>5</th>\n",
       "      <td>relu</td>\n",
       "      <td>32</td>\n",
       "      <td>14</td>\n",
       "      <td>0.887640</td>\n",
       "      <td>0.388140</td>\n",
       "      <td>0.781206</td>\n",
       "      <td>0.457049</td>\n",
       "    </tr>\n",
       "    <tr>\n",
       "      <th>6</th>\n",
       "      <td>sigmoid</td>\n",
       "      <td>128</td>\n",
       "      <td>44</td>\n",
       "      <td>0.887640</td>\n",
       "      <td>0.371792</td>\n",
       "      <td>0.809257</td>\n",
       "      <td>0.448236</td>\n",
       "    </tr>\n",
       "    <tr>\n",
       "      <th>7</th>\n",
       "      <td>leaky_relu</td>\n",
       "      <td>128</td>\n",
       "      <td>45</td>\n",
       "      <td>0.882022</td>\n",
       "      <td>0.398723</td>\n",
       "      <td>0.823282</td>\n",
       "      <td>0.390143</td>\n",
       "    </tr>\n",
       "    <tr>\n",
       "      <th>8</th>\n",
       "      <td>relu</td>\n",
       "      <td>16</td>\n",
       "      <td>13</td>\n",
       "      <td>0.882022</td>\n",
       "      <td>0.397881</td>\n",
       "      <td>0.795231</td>\n",
       "      <td>0.464672</td>\n",
       "    </tr>\n",
       "    <tr>\n",
       "      <th>9</th>\n",
       "      <td>sigmoid</td>\n",
       "      <td>64</td>\n",
       "      <td>24</td>\n",
       "      <td>0.882022</td>\n",
       "      <td>0.376557</td>\n",
       "      <td>0.786816</td>\n",
       "      <td>0.458726</td>\n",
       "    </tr>\n",
       "    <tr>\n",
       "      <th>10</th>\n",
       "      <td>leaky_relu</td>\n",
       "      <td>16</td>\n",
       "      <td>14</td>\n",
       "      <td>0.876404</td>\n",
       "      <td>0.369000</td>\n",
       "      <td>0.786816</td>\n",
       "      <td>0.477214</td>\n",
       "    </tr>\n",
       "    <tr>\n",
       "      <th>11</th>\n",
       "      <td>relu</td>\n",
       "      <td>64</td>\n",
       "      <td>45</td>\n",
       "      <td>0.876404</td>\n",
       "      <td>0.376093</td>\n",
       "      <td>0.819074</td>\n",
       "      <td>0.415087</td>\n",
       "    </tr>\n",
       "    <tr>\n",
       "      <th>12</th>\n",
       "      <td>sigmoid</td>\n",
       "      <td>16</td>\n",
       "      <td>25</td>\n",
       "      <td>0.876404</td>\n",
       "      <td>0.389694</td>\n",
       "      <td>0.781206</td>\n",
       "      <td>0.473567</td>\n",
       "    </tr>\n",
       "    <tr>\n",
       "      <th>13</th>\n",
       "      <td>sigmoid</td>\n",
       "      <td>32</td>\n",
       "      <td>10</td>\n",
       "      <td>0.876404</td>\n",
       "      <td>0.400779</td>\n",
       "      <td>0.784011</td>\n",
       "      <td>0.479824</td>\n",
       "    </tr>\n",
       "    <tr>\n",
       "      <th>14</th>\n",
       "      <td>leaky_relu</td>\n",
       "      <td>64</td>\n",
       "      <td>22</td>\n",
       "      <td>0.870787</td>\n",
       "      <td>0.398637</td>\n",
       "      <td>0.807854</td>\n",
       "      <td>0.436699</td>\n",
       "    </tr>\n",
       "    <tr>\n",
       "      <th>15</th>\n",
       "      <td>relu</td>\n",
       "      <td>128</td>\n",
       "      <td>41</td>\n",
       "      <td>0.870787</td>\n",
       "      <td>0.394184</td>\n",
       "      <td>0.842917</td>\n",
       "      <td>0.387491</td>\n",
       "    </tr>\n",
       "  </tbody>\n",
       "</table>\n",
       "</div>"
      ],
      "text/plain": [
       "    activation  batch_size  best_epoch   val_acc  val_loss  train_acc  \\\n",
       "0          elu          32           9  0.893258  0.410284   0.779804   \n",
       "1          elu          16          13  0.887640  0.394448   0.796634   \n",
       "2          elu          64          28  0.887640  0.383250   0.788219   \n",
       "3          elu         128          28  0.887640  0.387593   0.799439   \n",
       "4   leaky_relu          32          14  0.887640  0.381679   0.779804   \n",
       "5         relu          32          14  0.887640  0.388140   0.781206   \n",
       "6      sigmoid         128          44  0.887640  0.371792   0.809257   \n",
       "7   leaky_relu         128          45  0.882022  0.398723   0.823282   \n",
       "8         relu          16          13  0.882022  0.397881   0.795231   \n",
       "9      sigmoid          64          24  0.882022  0.376557   0.786816   \n",
       "10  leaky_relu          16          14  0.876404  0.369000   0.786816   \n",
       "11        relu          64          45  0.876404  0.376093   0.819074   \n",
       "12     sigmoid          16          25  0.876404  0.389694   0.781206   \n",
       "13     sigmoid          32          10  0.876404  0.400779   0.784011   \n",
       "14  leaky_relu          64          22  0.870787  0.398637   0.807854   \n",
       "15        relu         128          41  0.870787  0.394184   0.842917   \n",
       "\n",
       "    train_loss  \n",
       "0     0.467223  \n",
       "1     0.472520  \n",
       "2     0.457211  \n",
       "3     0.439278  \n",
       "4     0.452256  \n",
       "5     0.457049  \n",
       "6     0.448236  \n",
       "7     0.390143  \n",
       "8     0.464672  \n",
       "9     0.458726  \n",
       "10    0.477214  \n",
       "11    0.415087  \n",
       "12    0.473567  \n",
       "13    0.479824  \n",
       "14    0.436699  \n",
       "15    0.387491  "
      ]
     },
     "metadata": {},
     "output_type": "display_data"
    },
    {
     "name": "stdout",
     "output_type": "stream",
     "text": [
      "Top-5 결과 저장 → ./outputs/grid_search_top5.csv\n"
     ]
    }
   ],
   "source": [
    "# 4(activation) × 4(batch) = 16 조합 자동 학습\n",
    "activations = [\"sigmoid\", \"relu\", \"elu\", \"leaky_relu\"]\n",
    "batch_sizes = [16, 32, 64, 128]\n",
    "\n",
    "EPOCHS = 50\n",
    "LR = 1e-3\n",
    "WD = 0.0\n",
    "HIDDEN_DIMS = (64, 32)\n",
    "DROPOUT = 0.0\n",
    "\n",
    "records = []\n",
    "t0 = time.time()\n",
    "for act in activations:\n",
    "    for bs in batch_sizes:\n",
    "        print(f\"▶ run: activation={act}, batch_size={bs}\")\n",
    "        best = train_one_run(\n",
    "            activation=act, batch_size=bs,\n",
    "            hidden_dims=HIDDEN_DIMS, dropout=DROPOUT,\n",
    "            epochs=EPOCHS, lr=LR, weight_decay=WD,\n",
    "            device=device, use_wandb=USE_WANDB, wandb_project=WANDB_PROJECT\n",
    "        )\n",
    "        records.append({\n",
    "            \"activation\": act,\n",
    "            \"batch_size\": bs,\n",
    "            \"best_epoch\": best[\"epoch\"],\n",
    "            \"val_acc\": best[\"val_acc\"],\n",
    "            \"val_loss\": best[\"val_loss\"],\n",
    "            \"train_acc\": best[\"train_acc\"],\n",
    "            \"train_loss\": best[\"train_loss\"],\n",
    "            \"state\": best[\"state\"],\n",
    "        })\n",
    "print(f\"총 소요시간: {time.time()-t0:.1f}s\")\n",
    "\n",
    "# 결과표 정렬/표시\n",
    "df_results = pd.DataFrame([{k:v for k,v in r.items() if k!=\"state\"} for r in records])\n",
    "df_results.sort_values([\"val_acc\", \"activation\", \"batch_size\"], ascending=[False, True, True], inplace=True)\n",
    "df_results.reset_index(drop=True, inplace=True)\n",
    "display(df_results)\n",
    "\n",
    "# 상위 5개만 csv로 저장(옵션)\n",
    "os.makedirs(\"./outputs\", exist_ok=True)\n",
    "top5_path = \"./outputs/grid_search_top5.csv\"\n",
    "df_results.head(5).to_csv(top5_path, index=False)\n",
    "print(f\"Top-5 결과 저장 → {top5_path}\")\n"
   ]
  },
  {
   "cell_type": "markdown",
   "id": "e82b1414",
   "metadata": {},
   "source": [
    "# 셀 4: 최고 구성 복원 및 submission 생성"
   ]
  },
  {
   "cell_type": "code",
   "execution_count": null,
   "id": "b73320f0",
   "metadata": {},
   "outputs": [
    {
     "name": "stdout",
     "output_type": "stream",
     "text": [
      "BEST → activation=elu, batch_size=32, val_acc=0.8933, epoch=9\n",
      "Saved submission → ./outputs/submission_best.csv\n"
     ]
    }
   ],
   "source": [
    "assert len(df_results) > 0, \"그리드 서치 결과가 없습니다.\"\n",
    "\n",
    "best_act = df_results.loc[0, \"activation\"]\n",
    "best_bs  = int(df_results.loc[0, \"batch_size\"])\n",
    "print(f\"BEST → activation={best_act}, batch_size={best_bs}, \"\n",
    "      f\"val_acc={df_results.loc[0,'val_acc']:.4f}, epoch={int(df_results.loc[0,'best_epoch'])}\")\n",
    "\n",
    "# 해당 state 찾기\n",
    "best_state = [r[\"state\"] for r in records if r[\"activation\"]==best_act and r[\"batch_size\"]==best_bs][0]\n",
    "\n",
    "# 모델 재구성 & 로드\n",
    "best_model = MLP(in_dim=in_dim, hidden_dims=HIDDEN_DIMS, num_classes=2, act=best_act, dropout=DROPOUT).to(device)\n",
    "best_model.load_state_dict(best_state)\n",
    "best_model.eval()\n",
    "\n",
    "# test 예측\n",
    "test_loader = DataLoader(test_ds, batch_size=len(test_ds), shuffle=False)\n",
    "with torch.no_grad():\n",
    "    for b in test_loader:\n",
    "        x = b[\"input\"].to(device)\n",
    "        logits = best_model(x)\n",
    "        pred = torch.argmax(logits, dim=1).cpu().numpy()\n",
    "\n",
    "# submission 저장\n",
    "test_csv = pd.read_csv(TEST_CSV_PATH)\n",
    "submission = pd.DataFrame({\"PassengerId\": test_csv[\"PassengerId\"].values, \"Survived\": pred.astype(int)})\n",
    "out_path = \"./outputs/submission_best.csv\"\n",
    "submission.to_csv(out_path, index=False)\n",
    "print(f\"Saved submission → {out_path}\")\n"
   ]
  },
  {
   "cell_type": "markdown",
   "id": "bd6b3100",
   "metadata": {},
   "source": [
    "![alt text](image.png)"
   ]
  },
  {
   "cell_type": "markdown",
   "id": "2cfafdee",
   "metadata": {},
   "source": [
    "# 숙제 후기"
   ]
  },
  {
   "cell_type": "markdown",
   "id": "82be479d",
   "metadata": {},
   "source": [
    "### 데이터 전처리의 중요성을 알게 되었습니다. 어떤 데이터를 사용하느냐, 결측치가 있냐 없냐, 학습에 중요한 데이터인가 파악하는게 모델의 성능을 올리는 가장 기본적인 방법인 것 같습니다.\n",
    "### 어떤 학습이냐에 따라 적합한 활성화 함수, 배치 크기 설정이 달라진다는 것을 알았다. 어떤 함수와 배치 크기를 몇으로 정하는지는 아직 모르겠다. 많이 해봐야 알 것 같다.\n",
    "### WandB를 처음 사용해 보았는데, 시각화가 잘 되어있어서 성능 비교가 편한 것 같다."
   ]
  }
 ],
 "metadata": {
  "kernelspec": {
   "display_name": "link_dl",
   "language": "python",
   "name": "python3"
  },
  "language_info": {
   "codemirror_mode": {
    "name": "ipython",
    "version": 3
   },
   "file_extension": ".py",
   "mimetype": "text/x-python",
   "name": "python",
   "nbconvert_exporter": "python",
   "pygments_lexer": "ipython3",
   "version": "3.10.18"
  }
 },
 "nbformat": 4,
 "nbformat_minor": 5
}
